{
 "cells": [
  {
   "cell_type": "markdown",
   "metadata": {
    "_cell_guid": "b1076dfc-b9ad-4769-8c92-a6c4dae69d19",
    "_uuid": "8f2839f25d086af736a60e9eeb907d3b93b6e0e5",
    "papermill": {
     "duration": 0.014041,
     "end_time": "2021-03-15T23:10:43.440462",
     "exception": false,
     "start_time": "2021-03-15T23:10:43.426421",
     "status": "completed"
    },
    "tags": []
   },
   "source": [
    "## Directory settings"
   ]
  },
  {
   "cell_type": "code",
   "execution_count": 1,
   "metadata": {
    "execution": {
     "iopub.execute_input": "2021-03-15T23:10:43.472845Z",
     "iopub.status.busy": "2021-03-15T23:10:43.470891Z",
     "iopub.status.idle": "2021-03-15T23:10:43.473541Z",
     "shell.execute_reply": "2021-03-15T23:10:43.473961Z"
    },
    "papermill": {
     "duration": 0.021162,
     "end_time": "2021-03-15T23:10:43.474194",
     "exception": false,
     "start_time": "2021-03-15T23:10:43.453032",
     "status": "completed"
    },
    "tags": []
   },
   "outputs": [],
   "source": [
    "# ======================================================\n",
    "# Directory settings\n",
    "# ======================================================\n",
    "import os\n",
    "import pandas as pd\n",
    "\n",
    "OUTPUT_DIR = './'\n",
    "if not os.path.exists(OUTPUT_DIR):\n",
    "    os.makedir(OUTPUT_DIR)\n",
    "    \n",
    "TEST_PATH = '../input/ranzcr-clip-catheter-line-classification/test'"
   ]
  },
  {
   "cell_type": "markdown",
   "metadata": {
    "papermill": {
     "duration": 0.012642,
     "end_time": "2021-03-15T23:10:43.500520",
     "exception": false,
     "start_time": "2021-03-15T23:10:43.487878",
     "status": "completed"
    },
    "tags": []
   },
   "source": [
    "## CFG"
   ]
  },
  {
   "cell_type": "code",
   "execution_count": 2,
   "metadata": {
    "execution": {
     "iopub.execute_input": "2021-03-15T23:10:43.535779Z",
     "iopub.status.busy": "2021-03-15T23:10:43.535000Z",
     "iopub.status.idle": "2021-03-15T23:10:43.558490Z",
     "shell.execute_reply": "2021-03-15T23:10:43.557965Z"
    },
    "papermill": {
     "duration": 0.044591,
     "end_time": "2021-03-15T23:10:43.558619",
     "exception": false,
     "start_time": "2021-03-15T23:10:43.514028",
     "status": "completed"
    },
    "tags": []
   },
   "outputs": [],
   "source": [
    "# ====================================================\n",
    "# CFG\n",
    "# ====================================================\n",
    "class CFG:\n",
    "    debug=False\n",
    "    num_workers=4\n",
    "    model_name='resnet200d_320'\n",
    "    size=640\n",
    "    batch_size=128\n",
    "    seed=416\n",
    "    target_size=11\n",
    "    target_cols=['ETT - Abnormal', 'ETT - Borderline', 'ETT - Normal',\n",
    "                 'NGT - Abnormal', 'NGT - Borderline', 'NGT - Incompletely Imaged', 'NGT - Normal', \n",
    "                 'CVC - Abnormal', 'CVC - Borderline', 'CVC - Normal',\n",
    "                 'Swan Ganz Catheter Present']\n",
    "    n_fold=5\n",
    "    trn_fold=[0] # [0, 1, 2, 3, 4]\n",
    "    submit = (len(pd.read_csv('../input/ranzcr-clip-catheter-line-classification/sample_submission.csv')) != 3582)\n",
    "#     submit = True"
   ]
  },
  {
   "cell_type": "markdown",
   "metadata": {
    "papermill": {
     "duration": 0.013802,
     "end_time": "2021-03-15T23:10:43.586241",
     "exception": false,
     "start_time": "2021-03-15T23:10:43.572439",
     "status": "completed"
    },
    "tags": []
   },
   "source": [
    "## Library"
   ]
  },
  {
   "cell_type": "code",
   "execution_count": 3,
   "metadata": {
    "execution": {
     "iopub.execute_input": "2021-03-15T23:10:43.625815Z",
     "iopub.status.busy": "2021-03-15T23:10:43.624966Z",
     "iopub.status.idle": "2021-03-15T23:10:49.418106Z",
     "shell.execute_reply": "2021-03-15T23:10:49.417625Z"
    },
    "papermill": {
     "duration": 5.81793,
     "end_time": "2021-03-15T23:10:49.418292",
     "exception": false,
     "start_time": "2021-03-15T23:10:43.600362",
     "status": "completed"
    },
    "tags": []
   },
   "outputs": [],
   "source": [
    "# ====================================================\n",
    "# Library\n",
    "# ====================================================\n",
    "import sys\n",
    "sys.path.append('../input/pytorch-image-models/pytorch-image-models-master')\n",
    "\n",
    "import os\n",
    "import math\n",
    "import time\n",
    "import random\n",
    "import shutil\n",
    "from pathlib import Path\n",
    "from contextlib import contextmanager\n",
    "from collections import defaultdict, Counter\n",
    "\n",
    "import scipy as sp\n",
    "import numpy as np\n",
    "import pandas as pd\n",
    "\n",
    "from sklearn import preprocessing\n",
    "from sklearn.metrics import roc_auc_score\n",
    "from sklearn.model_selection import StratifiedKFold, GroupKFold, KFold\n",
    "\n",
    "from tqdm.auto import tqdm\n",
    "from functools import partial\n",
    "\n",
    "import cv2\n",
    "from PIL import Image\n",
    "\n",
    "from matplotlib import pyplot as plt\n",
    "\n",
    "import torch\n",
    "import torch.nn as nn\n",
    "import torch.nn.functional as F\n",
    "from torch.optim import Adam, SGD\n",
    "import torchvision.models as models\n",
    "from torch.nn.parameter import Parameter\n",
    "from torch.utils.data import DataLoader, Dataset\n",
    "from torch.optim.lr_scheduler import CosineAnnealingWarmRestarts, CosineAnnealingLR, ReduceLROnPlateau\n",
    "\n",
    "from albumentations import (\n",
    "    Compose, OneOf, Normalize, Resize, RandomResizedCrop, RandomCrop, HorizontalFlip, VerticalFlip, \n",
    "    RandomBrightness, RandomContrast, RandomBrightnessContrast, Rotate, ShiftScaleRotate, Cutout, \n",
    "    IAAAdditiveGaussianNoise, Transpose\n",
    "    )\n",
    "from albumentations.pytorch import ToTensorV2\n",
    "from albumentations import ImageOnlyTransform\n",
    "\n",
    "import timm\n",
    "\n",
    "from torch.cuda.amp import autocast, GradScaler\n",
    "\n",
    "import warnings \n",
    "warnings.filterwarnings('ignore')\n",
    "\n",
    "device = torch.device('cuda' if torch.cuda.is_available() else 'cpu')"
   ]
  },
  {
   "cell_type": "code",
   "execution_count": 4,
   "metadata": {
    "execution": {
     "iopub.execute_input": "2021-03-15T23:10:49.457106Z",
     "iopub.status.busy": "2021-03-15T23:10:49.456514Z",
     "iopub.status.idle": "2021-03-15T23:10:49.465088Z",
     "shell.execute_reply": "2021-03-15T23:10:49.464537Z"
    },
    "papermill": {
     "duration": 0.033568,
     "end_time": "2021-03-15T23:10:49.465216",
     "exception": false,
     "start_time": "2021-03-15T23:10:49.431648",
     "status": "completed"
    },
    "tags": []
   },
   "outputs": [],
   "source": [
    "# ====================================================\n",
    "# Utils\n",
    "# ====================================================\n",
    "def get_score(y_true, y_pred):\n",
    "    scores = []\n",
    "    for i in range(y_true.shape[1]):\n",
    "        score = roc_auc_score(y_true[:, i], y_pred[:, i])\n",
    "        scores.append(score)\n",
    "    avg_score = np.mean(scores, axis=0)\n",
    "    return avg_score, scores\n",
    "\n",
    "def get_result(result_df):\n",
    "    labels = result_df[CFG.target_cols].values\n",
    "    preds = result_df[[f'pred_{c}' for c in CFG.target_cols]].values\n",
    "    score, scores = get_score(labels, preds)\n",
    "    LOGGER.info(f'Score: {score:<.4f} Scores: {np.round(scores, decimals=4)}')\n",
    "    \n",
    "@contextmanager\n",
    "def timer(name):\n",
    "    t0 = time.time()\n",
    "    LOGGER.info(f'[{name}] start')\n",
    "    yield\n",
    "    LOGGER.info(f'[{name}] done in {time.time() - t0:.0f} s.')\n",
    "    \n",
    "def init_logger(log_file=OUTPUT_DIR+'inference.log'):\n",
    "    from logging import getLogger, INFO, FileHandler,  Formatter,  StreamHandler\n",
    "    logger = getLogger(__name__)\n",
    "    logger.setLevel(INFO)\n",
    "    handler1 = StreamHandler()\n",
    "    handler1.setFormatter(Formatter(\"%(message)s\"))\n",
    "    handler2 = FileHandler(filename=log_file)\n",
    "    handler2.setFormatter(Formatter(\"%(message)s\"))\n",
    "    logger.addHandler(handler1)\n",
    "    logger.addHandler(handler2)\n",
    "    return logger\n",
    "\n",
    "LOGGER = init_logger()\n",
    "\n",
    "def seed_torch(seed=42):\n",
    "    random.seed(seed)\n",
    "    os.environ['PYTHONHASHSEED'] = str(seed)\n",
    "    np.random.seed(seed)\n",
    "    torch.manual_seed(seed)\n",
    "    torch.cuda.manual_seed(seed)\n",
    "    torch.backends.cudnn.benchmark = False\n",
    "    torch.backends.cudnn.deterministic = True\n",
    "\n",
    "seed_torch(seed=CFG.seed)"
   ]
  },
  {
   "cell_type": "markdown",
   "metadata": {
    "papermill": {
     "duration": 0.012623,
     "end_time": "2021-03-15T23:10:49.491146",
     "exception": false,
     "start_time": "2021-03-15T23:10:49.478523",
     "status": "completed"
    },
    "tags": []
   },
   "source": [
    "## Data Loading"
   ]
  },
  {
   "cell_type": "code",
   "execution_count": 5,
   "metadata": {
    "execution": {
     "iopub.execute_input": "2021-03-15T23:10:49.526980Z",
     "iopub.status.busy": "2021-03-15T23:10:49.526475Z",
     "iopub.status.idle": "2021-03-15T23:10:49.642016Z",
     "shell.execute_reply": "2021-03-15T23:10:49.642571Z"
    },
    "papermill": {
     "duration": 0.138562,
     "end_time": "2021-03-15T23:10:49.642749",
     "exception": false,
     "start_time": "2021-03-15T23:10:49.504187",
     "status": "completed"
    },
    "tags": []
   },
   "outputs": [
    {
     "name": "stderr",
     "output_type": "stream",
     "text": [
      "========== fold: 0 result ===========\n",
      "Score: 0.9673 Scores: [0.9842 0.9779 0.9941 0.9284 0.9637 0.9898 0.9925 0.9485 0.9109 0.95\n",
      " 0.9999]\n"
     ]
    }
   ],
   "source": [
    "oof_df = pd.read_csv('../input/training-resnet200d-step3-ver-41/oof_df.csv')\n",
    "for fold in CFG.trn_fold:\n",
    "    fold_oof_df = oof_df[oof_df['fold']==fold].reset_index(drop=True)\n",
    "    LOGGER.info(f'========== fold: {fold} result ===========')\n",
    "    get_result(fold_oof_df)"
   ]
  },
  {
   "cell_type": "code",
   "execution_count": 6,
   "metadata": {
    "execution": {
     "iopub.execute_input": "2021-03-15T23:10:49.681213Z",
     "iopub.status.busy": "2021-03-15T23:10:49.680346Z",
     "iopub.status.idle": "2021-03-15T23:10:49.709205Z",
     "shell.execute_reply": "2021-03-15T23:10:49.709766Z"
    },
    "papermill": {
     "duration": 0.051255,
     "end_time": "2021-03-15T23:10:49.709922",
     "exception": false,
     "start_time": "2021-03-15T23:10:49.658667",
     "status": "completed"
    },
    "tags": []
   },
   "outputs": [
    {
     "name": "stdout",
     "output_type": "stream",
     "text": [
      "(3582, 12)\n"
     ]
    },
    {
     "data": {
      "text/html": [
       "<div>\n",
       "<style scoped>\n",
       "    .dataframe tbody tr th:only-of-type {\n",
       "        vertical-align: middle;\n",
       "    }\n",
       "\n",
       "    .dataframe tbody tr th {\n",
       "        vertical-align: top;\n",
       "    }\n",
       "\n",
       "    .dataframe thead th {\n",
       "        text-align: right;\n",
       "    }\n",
       "</style>\n",
       "<table border=\"1\" class=\"dataframe\">\n",
       "  <thead>\n",
       "    <tr style=\"text-align: right;\">\n",
       "      <th></th>\n",
       "      <th>StudyInstanceUID</th>\n",
       "      <th>ETT - Abnormal</th>\n",
       "      <th>ETT - Borderline</th>\n",
       "      <th>ETT - Normal</th>\n",
       "      <th>NGT - Abnormal</th>\n",
       "      <th>NGT - Borderline</th>\n",
       "      <th>NGT - Incompletely Imaged</th>\n",
       "      <th>NGT - Normal</th>\n",
       "      <th>CVC - Abnormal</th>\n",
       "      <th>CVC - Borderline</th>\n",
       "      <th>CVC - Normal</th>\n",
       "      <th>Swan Ganz Catheter Present</th>\n",
       "    </tr>\n",
       "  </thead>\n",
       "  <tbody>\n",
       "    <tr>\n",
       "      <th>0</th>\n",
       "      <td>1.2.826.0.1.3680043.8.498.46923145579096002617...</td>\n",
       "      <td>0</td>\n",
       "      <td>0</td>\n",
       "      <td>0</td>\n",
       "      <td>0</td>\n",
       "      <td>0</td>\n",
       "      <td>0</td>\n",
       "      <td>0</td>\n",
       "      <td>0</td>\n",
       "      <td>0</td>\n",
       "      <td>0</td>\n",
       "      <td>0</td>\n",
       "    </tr>\n",
       "    <tr>\n",
       "      <th>1</th>\n",
       "      <td>1.2.826.0.1.3680043.8.498.84006870182611080091...</td>\n",
       "      <td>0</td>\n",
       "      <td>0</td>\n",
       "      <td>0</td>\n",
       "      <td>0</td>\n",
       "      <td>0</td>\n",
       "      <td>0</td>\n",
       "      <td>0</td>\n",
       "      <td>0</td>\n",
       "      <td>0</td>\n",
       "      <td>0</td>\n",
       "      <td>0</td>\n",
       "    </tr>\n",
       "    <tr>\n",
       "      <th>2</th>\n",
       "      <td>1.2.826.0.1.3680043.8.498.12219033294413119947...</td>\n",
       "      <td>0</td>\n",
       "      <td>0</td>\n",
       "      <td>0</td>\n",
       "      <td>0</td>\n",
       "      <td>0</td>\n",
       "      <td>0</td>\n",
       "      <td>0</td>\n",
       "      <td>0</td>\n",
       "      <td>0</td>\n",
       "      <td>0</td>\n",
       "      <td>0</td>\n",
       "    </tr>\n",
       "    <tr>\n",
       "      <th>3</th>\n",
       "      <td>1.2.826.0.1.3680043.8.498.84994474380235968109...</td>\n",
       "      <td>0</td>\n",
       "      <td>0</td>\n",
       "      <td>0</td>\n",
       "      <td>0</td>\n",
       "      <td>0</td>\n",
       "      <td>0</td>\n",
       "      <td>0</td>\n",
       "      <td>0</td>\n",
       "      <td>0</td>\n",
       "      <td>0</td>\n",
       "      <td>0</td>\n",
       "    </tr>\n",
       "    <tr>\n",
       "      <th>4</th>\n",
       "      <td>1.2.826.0.1.3680043.8.498.35798987793805669662...</td>\n",
       "      <td>0</td>\n",
       "      <td>0</td>\n",
       "      <td>0</td>\n",
       "      <td>0</td>\n",
       "      <td>0</td>\n",
       "      <td>0</td>\n",
       "      <td>0</td>\n",
       "      <td>0</td>\n",
       "      <td>0</td>\n",
       "      <td>0</td>\n",
       "      <td>0</td>\n",
       "    </tr>\n",
       "  </tbody>\n",
       "</table>\n",
       "</div>"
      ],
      "text/plain": [
       "                                    StudyInstanceUID  ETT - Abnormal  \\\n",
       "0  1.2.826.0.1.3680043.8.498.46923145579096002617...               0   \n",
       "1  1.2.826.0.1.3680043.8.498.84006870182611080091...               0   \n",
       "2  1.2.826.0.1.3680043.8.498.12219033294413119947...               0   \n",
       "3  1.2.826.0.1.3680043.8.498.84994474380235968109...               0   \n",
       "4  1.2.826.0.1.3680043.8.498.35798987793805669662...               0   \n",
       "\n",
       "   ETT - Borderline  ETT - Normal  NGT - Abnormal  NGT - Borderline  \\\n",
       "0                 0             0               0                 0   \n",
       "1                 0             0               0                 0   \n",
       "2                 0             0               0                 0   \n",
       "3                 0             0               0                 0   \n",
       "4                 0             0               0                 0   \n",
       "\n",
       "   NGT - Incompletely Imaged  NGT - Normal  CVC - Abnormal  CVC - Borderline  \\\n",
       "0                          0             0               0                 0   \n",
       "1                          0             0               0                 0   \n",
       "2                          0             0               0                 0   \n",
       "3                          0             0               0                 0   \n",
       "4                          0             0               0                 0   \n",
       "\n",
       "   CVC - Normal  Swan Ganz Catheter Present  \n",
       "0             0                           0  \n",
       "1             0                           0  \n",
       "2             0                           0  \n",
       "3             0                           0  \n",
       "4             0                           0  "
      ]
     },
     "execution_count": 6,
     "metadata": {},
     "output_type": "execute_result"
    }
   ],
   "source": [
    "if CFG.debug:\n",
    "    test = pd.read_csv('../input/ranzcr-clip-catheter-line-classification/sample_submission.csv', nrows=10)\n",
    "else:\n",
    "    test = pd.read_csv('../input/ranzcr-clip-catheter-line-classification/sample_submission.csv')\n",
    "\n",
    "print(test.shape)\n",
    "test.head()"
   ]
  },
  {
   "cell_type": "markdown",
   "metadata": {
    "papermill": {
     "duration": 0.015028,
     "end_time": "2021-03-15T23:10:49.740628",
     "exception": false,
     "start_time": "2021-03-15T23:10:49.725600",
     "status": "completed"
    },
    "tags": []
   },
   "source": [
    "## Dataset"
   ]
  },
  {
   "cell_type": "code",
   "execution_count": 7,
   "metadata": {
    "execution": {
     "iopub.execute_input": "2021-03-15T23:10:49.781763Z",
     "iopub.status.busy": "2021-03-15T23:10:49.780942Z",
     "iopub.status.idle": "2021-03-15T23:10:49.784265Z",
     "shell.execute_reply": "2021-03-15T23:10:49.783751Z"
    },
    "papermill": {
     "duration": 0.027303,
     "end_time": "2021-03-15T23:10:49.784417",
     "exception": false,
     "start_time": "2021-03-15T23:10:49.757114",
     "status": "completed"
    },
    "tags": []
   },
   "outputs": [],
   "source": [
    "# ===================================================\n",
    "# Dataset\n",
    "# ===================================================\n",
    "class TestDataset(Dataset):\n",
    "    def __init__(self, df, transform=None):\n",
    "        self.df = df\n",
    "        self.file_names = df['StudyInstanceUID'].values\n",
    "        self.transform = transform\n",
    "        \n",
    "    def __len__(self):\n",
    "        return len(self.df)\n",
    "    \n",
    "    def __getitem__(self, idx):\n",
    "        file_name = self.file_names[idx]\n",
    "        file_path = f'{TEST_PATH}/{file_name}.jpg'\n",
    "        image = cv2.imread(file_path)\n",
    "#         mask = image[:, :, 0] > 0\n",
    "#         image = image[np.ix_(mask.any(axis=1), mask.any(axis=0))]\n",
    "#         image = cv2.cvtColor(image, cv2.COLOR_BGR2RGB)\n",
    "        if self.transform:\n",
    "            augmented = self.transform(image=image)\n",
    "            image = augmented['image']\n",
    "        return image"
   ]
  },
  {
   "cell_type": "markdown",
   "metadata": {
    "papermill": {
     "duration": 0.016941,
     "end_time": "2021-03-15T23:10:49.817970",
     "exception": false,
     "start_time": "2021-03-15T23:10:49.801029",
     "status": "completed"
    },
    "tags": []
   },
   "source": [
    "## Transform"
   ]
  },
  {
   "cell_type": "code",
   "execution_count": 8,
   "metadata": {
    "execution": {
     "iopub.execute_input": "2021-03-15T23:10:49.864301Z",
     "iopub.status.busy": "2021-03-15T23:10:49.863265Z",
     "iopub.status.idle": "2021-03-15T23:10:49.866711Z",
     "shell.execute_reply": "2021-03-15T23:10:49.866242Z"
    },
    "papermill": {
     "duration": 0.03115,
     "end_time": "2021-03-15T23:10:49.866832",
     "exception": false,
     "start_time": "2021-03-15T23:10:49.835682",
     "status": "completed"
    },
    "tags": []
   },
   "outputs": [],
   "source": [
    "# ====================================================\n",
    "# Transforms\n",
    "# ====================================================\n",
    "def get_transforms(*, data):\n",
    "    \n",
    "    if data == 'train':\n",
    "        return Compose([\n",
    "            #Resize(CFG.size, CFG.size),\n",
    "            RandomResizedCrop(CFG.size, CFG.size, scale=(0.85, 1.0)),\n",
    "            HorizontalFlip(p=0.5),\n",
    "            RandomBrightnessContrast(p=0.2, brightness_limit=(-0.2, 0.2), contrast_limit=(-0.2, 0.2)),\n",
    "            HueSaturationValue(p=0.2, hue_shift_limit=0.2, sat_shift_limit=0.2, val_shift_limit=0.2),\n",
    "            ShiftScaleRotate(p=0.2, shift_limit=0.0625, scale_limit=0.2, rotate_limit=20),\n",
    "            CoarseDropout(p=0.2),\n",
    "            Cutout(p=0.2, max_h_size=16, max_w_size=16, fill_value=(0., 0., 0.), num_holes=16),\n",
    "            Normalize(\n",
    "                mean=[0.485, 0.456, 0.406],\n",
    "                std=[0.229, 0.224, 0.225],\n",
    "            ),\n",
    "            ToTensorV2(),\n",
    "        ])\n",
    "    \n",
    "    elif data == 'valid':\n",
    "        return Compose([\n",
    "            Resize(CFG.size, CFG.size),\n",
    "            Normalize(\n",
    "                mean=[0.485, 0.456, 0.406],\n",
    "                std=[0.229, 0.224, 0.225],\n",
    "            ),\n",
    "            ToTensorV2(),\n",
    "        ])"
   ]
  },
  {
   "cell_type": "code",
   "execution_count": 9,
   "metadata": {
    "execution": {
     "iopub.execute_input": "2021-03-15T23:10:49.907107Z",
     "iopub.status.busy": "2021-03-15T23:10:49.906571Z",
     "iopub.status.idle": "2021-03-15T23:10:50.462178Z",
     "shell.execute_reply": "2021-03-15T23:10:50.461614Z"
    },
    "papermill": {
     "duration": 0.577562,
     "end_time": "2021-03-15T23:10:50.462316",
     "exception": false,
     "start_time": "2021-03-15T23:10:49.884754",
     "status": "completed"
    },
    "tags": []
   },
   "outputs": [
    {
     "data": {
      "image/png": "[encoded data removed]",
      "text/plain": [
       "<Figure size 432x288 with 1 Axes>"
      ]
     },
     "metadata": {
      "needs_background": "light"
     },
     "output_type": "display_data"
    },
    {
     "data": {
      "image/png": "[encoded data removed]",
      "text/plain": [
       "<Figure size 432x288 with 1 Axes>"
      ]
     },
     "metadata": {
      "needs_background": "light"
     },
     "output_type": "display_data"
    }
   ],
   "source": [
    "train_dataset = TestDataset(test, transform=get_transforms(data='valid'))\n",
    "\n",
    "for i in range(1):\n",
    "    image = train_dataset[i]\n",
    "    plt.imshow(image[0])\n",
    "    plt.show()\n",
    "    plt.imshow(image[0].flip(-1))\n",
    "    plt.show()"
   ]
  },
  {
   "cell_type": "markdown",
   "metadata": {
    "papermill": {
     "duration": 0.018748,
     "end_time": "2021-03-15T23:10:50.501749",
     "exception": false,
     "start_time": "2021-03-15T23:10:50.483001",
     "status": "completed"
    },
    "tags": []
   },
   "source": [
    "## MODEL"
   ]
  },
  {
   "cell_type": "code",
   "execution_count": 10,
   "metadata": {
    "execution": {
     "iopub.execute_input": "2021-03-15T23:10:50.562541Z",
     "iopub.status.busy": "2021-03-15T23:10:50.560568Z",
     "iopub.status.idle": "2021-03-15T23:10:50.563282Z",
     "shell.execute_reply": "2021-03-15T23:10:50.563738Z"
    },
    "papermill": {
     "duration": 0.042222,
     "end_time": "2021-03-15T23:10:50.563884",
     "exception": false,
     "start_time": "2021-03-15T23:10:50.521662",
     "status": "completed"
    },
    "tags": []
   },
   "outputs": [],
   "source": [
    "class PAM_Module(nn.Module):\n",
    "    \"\"\" Position attention module\"\"\"\n",
    "    #Ref from SAGAN\n",
    "    def __init__(self, in_dim):\n",
    "        super(PAM_Module, self).__init__()\n",
    "        self.chanel_in = in_dim\n",
    "\n",
    "        self.query_conv = nn.Conv2d(in_channels=in_dim, out_channels=in_dim//8, kernel_size=1)\n",
    "        self.key_conv = nn.Conv2d(in_channels=in_dim, out_channels=in_dim//8, kernel_size=1)\n",
    "        self.value_conv = nn.Conv2d(in_channels=in_dim, out_channels=in_dim, kernel_size=1)\n",
    "        self.gamma = nn.Parameter(torch.zeros(1))\n",
    "        \n",
    "    def forward(self, x):\n",
    "        \"\"\"\n",
    "            inputs :\n",
    "                x : input feature maps( B X C X H X W)\n",
    "            returns :\n",
    "                out : attention value + input feature\n",
    "                attention: B X (HxW) X (HxW)\n",
    "        \"\"\"\n",
    "        m_batchsize, C, height, width = x.size()\n",
    "        proj_query = self.query_conv(x).view(m_batchsize, -1, width*height).permute(0, 2, 1)\n",
    "        proj_key = self.key_conv(x).view(m_batchsize, -1, width*height)\n",
    "        energy = torch.bmm(proj_query, proj_key)\n",
    "        attention = torch.softmax(energy, dim=-1)\n",
    "        proj_value = self.value_conv(x).view(m_batchsize, -1, width*height)\n",
    "\n",
    "        out = torch.bmm(proj_value, attention.permute(0, 2, 1))\n",
    "        out = out.view(m_batchsize, C, height, width)\n",
    "\n",
    "        out = self.gamma*out + x\n",
    "        return out\n",
    "    \n",
    "class CAM_Module(nn.Module):\n",
    "    \"\"\" Channel attention module\"\"\"\n",
    "    def __init__(self, in_dim):\n",
    "        super(CAM_Module, self).__init__()\n",
    "        self.chanel_in = in_dim\n",
    "        self.gamma = nn.Parameter(torch.zeros(1))\n",
    "        \n",
    "    def forward(self,x):\n",
    "        \"\"\"\n",
    "            inputs :\n",
    "                x : input feature maps( B X C X H X W)\n",
    "            returns :\n",
    "                out : attention value + input feature\n",
    "                attention: B X C X C\n",
    "        \"\"\"\n",
    "        m_batchsize, C, height, width = x.size()\n",
    "        proj_query = x.view(m_batchsize, C, -1)\n",
    "        proj_key = x.view(m_batchsize, C, -1).permute(0, 2, 1)\n",
    "        energy = torch.bmm(proj_query, proj_key)\n",
    "        energy_new = torch.max(energy, -1, keepdim=True)[0].expand_as(energy)-energy\n",
    "        attention = torch.softmax(energy_new, dim=-1)\n",
    "        proj_value = x.view(m_batchsize, C, -1)\n",
    "\n",
    "        out = torch.bmm(attention, proj_value)\n",
    "        out = out.view(m_batchsize, C, height, width)\n",
    "\n",
    "        out = self.gamma*out + x\n",
    "        return out\n",
    "    \n",
    "class CBAM(nn.Module):\n",
    "    def __init__(self, in_channels):\n",
    "        # def __init__(self):\n",
    "        super(CBAM, self).__init__()\n",
    "        inter_channels = in_channels // 4\n",
    "        self.conv1_c = nn.Sequential(nn.Conv2d(in_channels, inter_channels, 3, padding=1, bias=False),\n",
    "                                     nn.BatchNorm2d(inter_channels),\n",
    "                                     nn.ReLU(inplace=True))\n",
    "        \n",
    "        self.conv1_s = nn.Sequential(nn.Conv2d(in_channels, inter_channels, 3, padding=1, bias=False),\n",
    "                                     nn.BatchNorm2d(inter_channels),\n",
    "                                     nn.ReLU(inplace=True))\n",
    "\n",
    "        self.channel_gate = CAM_Module(inter_channels)\n",
    "        self.spatial_gate = PAM_Module(inter_channels)\n",
    "        \n",
    "        self.conv2_c = nn.Sequential(nn.Conv2d(inter_channels, in_channels, 3, padding=1, bias=False),\n",
    "                                     nn.BatchNorm2d(in_channels),\n",
    "                                     nn.ReLU(inplace=True))\n",
    "        self.conv2_a = nn.Sequential(nn.Conv2d(inter_channels, in_channels, 3, padding=1, bias=False),\n",
    "                                     nn.BatchNorm2d(in_channels),\n",
    "                                     nn.ReLU(inplace=True))\n",
    "        \n",
    "    def forward(self, x):\n",
    "        feat1 = self.conv1_c(x)\n",
    "        chnl_att = self.channel_gate(feat1)\n",
    "        chnl_att = self.conv2_c(chnl_att)\n",
    "\n",
    "        feat2 = self.conv1_s(x)\n",
    "        spat_att = self.spatial_gate(feat2)\n",
    "        spat_att = self.conv2_a(spat_att)\n",
    "\n",
    "        x_out = chnl_att + spat_att\n",
    "\n",
    "        return x_out"
   ]
  },
  {
   "cell_type": "code",
   "execution_count": 11,
   "metadata": {
    "execution": {
     "iopub.execute_input": "2021-03-15T23:10:50.616942Z",
     "iopub.status.busy": "2021-03-15T23:10:50.616137Z",
     "iopub.status.idle": "2021-03-15T23:10:50.619199Z",
     "shell.execute_reply": "2021-03-15T23:10:50.618745Z"
    },
    "papermill": {
     "duration": 0.036482,
     "end_time": "2021-03-15T23:10:50.619316",
     "exception": false,
     "start_time": "2021-03-15T23:10:50.582834",
     "status": "completed"
    },
    "tags": []
   },
   "outputs": [],
   "source": [
    "# ====================================================\n",
    "# MODEL\n",
    "# ====================================================\n",
    "class CustomResNet200D(nn.Module):\n",
    "    def __init__(self, model_name='resnet200d_320', pretrained=False):\n",
    "        super().__init__()\n",
    "        self.model = timm.create_model(model_name, pretrained=False)\n",
    "        if pretrained:\n",
    "            pretrained_path = '../input/resnet200d-pretrained-weight/resnet200d_ra2-bdba9bf9.pth'\n",
    "            self.model.load_state_dict(torch.load(pretrained_path))\n",
    "            print(f'load {model_name} pretrained model')\n",
    "        n_features = self.model.fc.in_features\n",
    "        self.model.global_pool = nn.Identity()\n",
    "        self.model.fc = nn.Identity()\n",
    "        self.pooling = nn.AdaptiveAvgPool2d(1)\n",
    "        self.fc = nn.Linear(n_features, CFG.target_size)\n",
    "\n",
    "        \n",
    "    def forward(self, x):\n",
    "        bs = x.size(0)\n",
    "        features = self.model(x)\n",
    "        pooled_features = self.pooling(features).view(bs, -1)\n",
    "        output = self.fc(pooled_features)\n",
    "        return output\n",
    "    \n",
    "class CustomResNet200D_WLF(nn.Module):\n",
    "    def __init__(self, model_name='resnet200d_320', pretrained=False):\n",
    "        super().__init__()\n",
    "        self.model = timm.create_model(model_name, pretrained=False)\n",
    "        n_features  = self.model.fc.in_features\n",
    "        self.model.fc = nn.Linear(n_features, CFG.target_size)\n",
    "        \n",
    "        if pretrained:\n",
    "            pretrained_path = '../input/startingpointschestx/resnet200d_320_chestx.pth'\n",
    "#             self.model.load_state_dict(torch.load(pretrained_path, map_location=torch.device('cpu'))['model'])\n",
    "            \n",
    "            checkpoint = torch.load(pretrained_path, map_location='cpu')['model']\n",
    "            for key in list(checkpoint.keys()):\n",
    "                if 'model.' in key:\n",
    "                    checkpoint[key.replace('model.', '')] = checkpoint[key]\n",
    "                    del checkpoint[key]\n",
    "            self.model.load_state_dict(checkpoint) \n",
    "            \n",
    "            print(f'load {model_name} pretrained model')\n",
    "        n_features = self.model.fc.in_features\n",
    "        self.model.global_pool = nn.Identity()\n",
    "        self.model.fc = nn.Identity()\n",
    "        self.pooling = nn.AdaptiveAvgPool2d(1)\n",
    "#         self.fc = nn.Linear(n_features, CFG.target_size)\n",
    "        \n",
    "        self.local_fe = CBAM(n_features)\n",
    "        self.classifier = nn.Sequential(nn.Linear(n_features + n_features, n_features), \n",
    "                                        nn.BatchNorm1d(n_features),\n",
    "                                        nn.ReLU(inplace=True),\n",
    "                                        nn.Linear(n_features, CFG.target_size))\n",
    "    def forward(self, x):\n",
    "        bs = x.size(0)\n",
    "        features = self.model(x)\n",
    "        \n",
    "        global_features = self.pooling(features).view(bs, -1)\n",
    "        \n",
    "        local_features = self.local_fe(features)\n",
    "        local_features = torch.sum(local_features, dim=[2, 3])  # ここ、どうしてsum？GAPではない？\n",
    "        \n",
    "        all_features = torch.cat([global_features, local_features], dim=1)\n",
    "        output = self.classifier(all_features)\n",
    "        \n",
    "        return output"
   ]
  },
  {
   "cell_type": "markdown",
   "metadata": {
    "papermill": {
     "duration": 0.018831,
     "end_time": "2021-03-15T23:10:50.657530",
     "exception": false,
     "start_time": "2021-03-15T23:10:50.638699",
     "status": "completed"
    },
    "tags": []
   },
   "source": [
    "## Helper finctions"
   ]
  },
  {
   "cell_type": "code",
   "execution_count": 12,
   "metadata": {
    "execution": {
     "iopub.execute_input": "2021-03-15T23:10:50.703421Z",
     "iopub.status.busy": "2021-03-15T23:10:50.702622Z",
     "iopub.status.idle": "2021-03-15T23:10:50.705759Z",
     "shell.execute_reply": "2021-03-15T23:10:50.705301Z"
    },
    "papermill": {
     "duration": 0.028931,
     "end_time": "2021-03-15T23:10:50.705872",
     "exception": false,
     "start_time": "2021-03-15T23:10:50.676941",
     "status": "completed"
    },
    "tags": []
   },
   "outputs": [],
   "source": [
    "# ====================================================\n",
    "# Helper functions\n",
    "# ====================================================\n",
    "def inference(models, test_loader, device):\n",
    "    tk0 = tqdm(enumerate(test_loader), total=len(test_loader))\n",
    "    \n",
    "    probs = []\n",
    "    for i, images in tk0:\n",
    "        images = images.to(device)\n",
    "        avg_preds = []\n",
    "        for model in models:\n",
    "            with torch.no_grad():\n",
    "                y_preds1 = model(images)\n",
    "                y_preds2 = model(images.flip(-1))\n",
    "            y_preds = (y_preds1.sigmoid().to('cpu').numpy() + y_preds2.sigmoid().to('cpu').numpy()) / 2\n",
    "            avg_preds.append(y_preds)\n",
    "        avg_preds = np.mean(avg_preds, axis=0)\n",
    "        probs.append(avg_preds)\n",
    "    probs = np.concatenate(probs)\n",
    "    return probs"
   ]
  },
  {
   "cell_type": "markdown",
   "metadata": {
    "papermill": {
     "duration": 0.018618,
     "end_time": "2021-03-15T23:10:50.744009",
     "exception": false,
     "start_time": "2021-03-15T23:10:50.725391",
     "status": "completed"
    },
    "tags": []
   },
   "source": [
    "## inference"
   ]
  },
  {
   "cell_type": "code",
   "execution_count": 13,
   "metadata": {
    "execution": {
     "iopub.execute_input": "2021-03-15T23:10:50.796384Z",
     "iopub.status.busy": "2021-03-15T23:10:50.795697Z",
     "iopub.status.idle": "2021-03-15T23:11:03.805805Z",
     "shell.execute_reply": "2021-03-15T23:11:03.806677Z"
    },
    "papermill": {
     "duration": 13.042984,
     "end_time": "2021-03-15T23:11:03.806897",
     "exception": false,
     "start_time": "2021-03-15T23:10:50.763913",
     "status": "completed"
    },
    "tags": []
   },
   "outputs": [
    {
     "name": "stdout",
     "output_type": "stream",
     "text": [
      "CPU times: user 3.19 s, sys: 1.37 s, total: 4.56 s\n",
      "Wall time: 13 s\n"
     ]
    }
   ],
   "source": [
    "%%time\n",
    "\n",
    "models = []\n",
    "\n",
    "model = CustomResNet200D_WLF(CFG.model_name, pretrained=False)\n",
    "model_path = '../input/training-resnet200d-step3-ver-41/resnet200d_320_fold0_best_loss.pth'\n",
    "model.load_state_dict(torch.load(model_path)['model'])\n",
    "model.eval()\n",
    "\n",
    "models.append(model.to(device))\n",
    "\n",
    "# model = CustomResNet200D_WLF(CFG.model_name, pretrained=False)\n",
    "# model_path = '../input/007-training-resnext-step3-data/resnet200d_320_fold1_best_score.pth'\n",
    "# model.load_state_dict(torch.load(model_path)['model'])\n",
    "# model.eval()\n",
    "\n",
    "# models.append(model.to(device))"
   ]
  },
  {
   "cell_type": "code",
   "execution_count": 14,
   "metadata": {
    "execution": {
     "iopub.execute_input": "2021-03-15T23:11:03.857969Z",
     "iopub.status.busy": "2021-03-15T23:11:03.857050Z",
     "iopub.status.idle": "2021-03-15T23:11:04.038309Z",
     "shell.execute_reply": "2021-03-15T23:11:04.038953Z"
    },
    "papermill": {
     "duration": 0.210311,
     "end_time": "2021-03-15T23:11:04.039172",
     "exception": false,
     "start_time": "2021-03-15T23:11:03.828861",
     "status": "completed"
    },
    "tags": []
   },
   "outputs": [],
   "source": [
    "if CFG.submit:\n",
    "    test_dataset = TestDataset(test, transform=get_transforms(data='valid'))\n",
    "    test_loader = DataLoader(test_dataset, batch_size=CFG.batch_size, shuffle=False, num_workers=CFG.num_workers, pin_memory=True)\n",
    "    predictions = inference(models, test_loader, device)\n",
    "    # submission\n",
    "    test[CFG.target_cols] = predictions\n",
    "    test[['StudyInstanceUID'] + CFG.target_cols].to_csv(OUTPUT_DIR+'submission.csv', index=False)\n",
    "    test.head()\n",
    "    \n",
    "else:\n",
    "    pd.read_csv('../input/ranzcr-clip-catheter-line-classification/sample_submission.csv').to_csv('submission.csv', index=False)"
   ]
  },
  {
   "cell_type": "code",
   "execution_count": null,
   "metadata": {
    "papermill": {
     "duration": 0.018845,
     "end_time": "2021-03-15T23:11:04.083469",
     "exception": false,
     "start_time": "2021-03-15T23:11:04.064624",
     "status": "completed"
    },
    "tags": []
   },
   "outputs": [],
   "source": []
  },
  {
   "cell_type": "code",
   "execution_count": null,
   "metadata": {
    "papermill": {
     "duration": 0.019236,
     "end_time": "2021-03-15T23:11:04.121959",
     "exception": false,
     "start_time": "2021-03-15T23:11:04.102723",
     "status": "completed"
    },
    "tags": []
   },
   "outputs": [],
   "source": []
  }
 ],
 "metadata": {
  "kernelspec": {
   "display_name": "Python 3",
   "language": "python",
   "name": "python3"
  },
  "language_info": {
   "codemirror_mode": {
    "name": "ipython",
    "version": 3
   },
   "file_extension": ".py",
   "mimetype": "text/x-python",
   "name": "python",
   "nbconvert_exporter": "python",
   "pygments_lexer": "ipython3",
   "version": "3.7.9"
  },
  "papermill": {
   "default_parameters": {},
   "duration": 27.800643,
   "end_time": "2021-03-15T23:11:05.453088",
   "environment_variables": {},
   "exception": null,
   "input_path": "__notebook__.ipynb",
   "output_path": "__notebook__.ipynb",
   "parameters": {},
   "start_time": "2021-03-15T23:10:37.652445",
   "version": "2.2.2"
  }
 },
 "nbformat": 4,
 "nbformat_minor": 4
}
