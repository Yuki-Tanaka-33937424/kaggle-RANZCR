{
 "cells": [
  {
   "cell_type": "markdown",
   "metadata": {
    "papermill": {
     "duration": 0.010642,
     "end_time": "2021-03-02T03:51:48.648143",
     "exception": false,
     "start_time": "2021-03-02T03:51:48.637501",
     "status": "completed"
    },
    "tags": []
   },
   "source": [
    "# LET US BOOST CV AND LB\n",
    "Hi, this model is trained on 4 stages and obtained CV >96.3 and LB 96.5.<tr>\n",
    "Great thanks to @yasufuminakama and @hengck23 for ideas and starters.<tr>\n",
    "## IF YOU FOUND THIS NOTEBOOK HELPFULL PLEASE UPVOTE MORE AND BETTER MODELS WILL BE PUBLISHED."
   ]
  },
  {
   "cell_type": "code",
   "execution_count": 1,
   "metadata": {
    "execution": {
     "iopub.execute_input": "2021-03-02T03:51:48.678675Z",
     "iopub.status.busy": "2021-03-02T03:51:48.677827Z",
     "iopub.status.idle": "2021-03-02T03:51:54.625826Z",
     "shell.execute_reply": "2021-03-02T03:51:54.626450Z"
    },
    "papermill": {
     "duration": 5.969102,
     "end_time": "2021-03-02T03:51:54.626847",
     "exception": false,
     "start_time": "2021-03-02T03:51:48.657745",
     "status": "completed"
    },
    "tags": []
   },
   "outputs": [],
   "source": [
    "import os\n",
    "import sys\n",
    "sys.path.append('../input/pytorch-images-seresnet')\n",
    "\n",
    "import os\n",
    "import math\n",
    "import time\n",
    "import random\n",
    "import shutil\n",
    "from pathlib import Path\n",
    "from contextlib import contextmanager\n",
    "from collections import defaultdict, Counter\n",
    "\n",
    "import scipy as sp\n",
    "import numpy as np\n",
    "import pandas as pd\n",
    "\n",
    "from tqdm.auto import tqdm\n",
    "from functools import partial\n",
    "\n",
    "import cv2\n",
    "from PIL import Image\n",
    "\n",
    "from matplotlib import pyplot as plt\n",
    "\n",
    "import torch\n",
    "import torch.nn as nn\n",
    "import torch.nn.functional as F\n",
    "from torch.optim import Adam, SGD\n",
    "import torchvision.models as models\n",
    "from torch.nn.parameter import Parameter\n",
    "from torch.utils.data import DataLoader, Dataset\n",
    "import albumentations\n",
    "from albumentations import *\n",
    "from albumentations.pytorch import ToTensorV2\n",
    "\n",
    "\n",
    "import timm\n",
    "\n",
    "from torch.cuda.amp import autocast, GradScaler\n",
    "\n",
    "import warnings \n",
    "warnings.filterwarnings('ignore')\n",
    "\n",
    "device = torch.device('cuda' if torch.cuda.is_available() else 'cpu')"
   ]
  },
  {
   "cell_type": "code",
   "execution_count": 2,
   "metadata": {
    "_cell_guid": "b1076dfc-b9ad-4769-8c92-a6c4dae69d19",
    "_uuid": "8f2839f25d086af736a60e9eeb907d3b93b6e0e5",
    "execution": {
     "iopub.execute_input": "2021-03-02T03:51:54.653749Z",
     "iopub.status.busy": "2021-03-02T03:51:54.651719Z",
     "iopub.status.idle": "2021-03-02T03:51:54.654500Z",
     "shell.execute_reply": "2021-03-02T03:51:54.655078Z"
    },
    "papermill": {
     "duration": 0.018059,
     "end_time": "2021-03-02T03:51:54.655243",
     "exception": false,
     "start_time": "2021-03-02T03:51:54.637184",
     "status": "completed"
    },
    "tags": []
   },
   "outputs": [],
   "source": [
    "IMAGE_SIZE = 640\n",
    "BATCH_SIZE = 128\n",
    "TEST_PATH = '../input/ranzcr-clip-catheter-line-classification/test'\n",
    "MODEL_PATH = '../input/resnet200d-public/resnet200d_320_CV9632.pth'"
   ]
  },
  {
   "cell_type": "code",
   "execution_count": 3,
   "metadata": {
    "execution": {
     "iopub.execute_input": "2021-03-02T03:51:54.680847Z",
     "iopub.status.busy": "2021-03-02T03:51:54.680097Z",
     "iopub.status.idle": "2021-03-02T03:51:54.703048Z",
     "shell.execute_reply": "2021-03-02T03:51:54.702414Z"
    },
    "papermill": {
     "duration": 0.038135,
     "end_time": "2021-03-02T03:51:54.703207",
     "exception": false,
     "start_time": "2021-03-02T03:51:54.665072",
     "status": "completed"
    },
    "tags": []
   },
   "outputs": [],
   "source": [
    "test = pd.read_csv('../input/ranzcr-clip-catheter-line-classification/sample_submission.csv')"
   ]
  },
  {
   "cell_type": "code",
   "execution_count": 4,
   "metadata": {
    "execution": {
     "iopub.execute_input": "2021-03-02T03:51:54.732118Z",
     "iopub.status.busy": "2021-03-02T03:51:54.731273Z",
     "iopub.status.idle": "2021-03-02T03:51:54.735783Z",
     "shell.execute_reply": "2021-03-02T03:51:54.735212Z"
    },
    "papermill": {
     "duration": 0.022305,
     "end_time": "2021-03-02T03:51:54.735930",
     "exception": false,
     "start_time": "2021-03-02T03:51:54.713625",
     "status": "completed"
    },
    "tags": []
   },
   "outputs": [],
   "source": [
    "class TestDataset(Dataset):\n",
    "    def __init__(self, df, transform=None):\n",
    "        self.df = df\n",
    "        self.file_names = df['StudyInstanceUID'].values\n",
    "        self.transform = transform\n",
    "        \n",
    "    def __len__(self):\n",
    "        return len(self.df)\n",
    "\n",
    "    def __getitem__(self, idx):\n",
    "        file_name = self.file_names[idx]\n",
    "        file_path = f'{TEST_PATH}/{file_name}.jpg'\n",
    "        image = cv2.imread(file_path)\n",
    "        image = cv2.cvtColor(image, cv2.COLOR_BGR2RGB)\n",
    "        if self.transform:\n",
    "            augmented = self.transform(image=image)\n",
    "            image = augmented['image']\n",
    "        return image"
   ]
  },
  {
   "cell_type": "code",
   "execution_count": 5,
   "metadata": {
    "execution": {
     "iopub.execute_input": "2021-03-02T03:51:54.761597Z",
     "iopub.status.busy": "2021-03-02T03:51:54.760888Z",
     "iopub.status.idle": "2021-03-02T03:51:54.765741Z",
     "shell.execute_reply": "2021-03-02T03:51:54.765145Z"
    },
    "papermill": {
     "duration": 0.019616,
     "end_time": "2021-03-02T03:51:54.765880",
     "exception": false,
     "start_time": "2021-03-02T03:51:54.746264",
     "status": "completed"
    },
    "tags": []
   },
   "outputs": [],
   "source": [
    "def get_transforms():\n",
    "        return Compose([\n",
    "            Resize(IMAGE_SIZE, IMAGE_SIZE),\n",
    "            Normalize(\n",
    "            ),\n",
    "            ToTensorV2(),\n",
    "        ])"
   ]
  },
  {
   "cell_type": "code",
   "execution_count": 6,
   "metadata": {
    "execution": {
     "iopub.execute_input": "2021-03-02T03:51:54.797930Z",
     "iopub.status.busy": "2021-03-02T03:51:54.796203Z",
     "iopub.status.idle": "2021-03-02T03:51:54.798688Z",
     "shell.execute_reply": "2021-03-02T03:51:54.799223Z"
    },
    "papermill": {
     "duration": 0.022975,
     "end_time": "2021-03-02T03:51:54.799391",
     "exception": false,
     "start_time": "2021-03-02T03:51:54.776416",
     "status": "completed"
    },
    "tags": []
   },
   "outputs": [],
   "source": [
    "class ResNet200D(nn.Module):\n",
    "    def __init__(self, model_name='resnet200d_320'):\n",
    "        super().__init__()\n",
    "        self.model = timm.create_model(model_name, pretrained=False)\n",
    "        n_features = self.model.fc.in_features\n",
    "        self.model.global_pool = nn.Identity()\n",
    "        self.model.fc = nn.Identity()\n",
    "        self.pooling = nn.AdaptiveAvgPool2d(1)\n",
    "        self.fc = nn.Linear(n_features, 11)\n",
    "\n",
    "    def forward(self, x):\n",
    "        bs = x.size(0)\n",
    "        features = self.model(x)\n",
    "        pooled_features = self.pooling(features).view(bs, -1)\n",
    "        output = self.fc(pooled_features)\n",
    "        return output"
   ]
  },
  {
   "cell_type": "code",
   "execution_count": 7,
   "metadata": {
    "execution": {
     "iopub.execute_input": "2021-03-02T03:51:54.829840Z",
     "iopub.status.busy": "2021-03-02T03:51:54.828904Z",
     "iopub.status.idle": "2021-03-02T03:51:54.832466Z",
     "shell.execute_reply": "2021-03-02T03:51:54.831932Z"
    },
    "papermill": {
     "duration": 0.022692,
     "end_time": "2021-03-02T03:51:54.832631",
     "exception": false,
     "start_time": "2021-03-02T03:51:54.809939",
     "status": "completed"
    },
    "tags": []
   },
   "outputs": [],
   "source": [
    "def inference(models, test_loader, device):\n",
    "    tk0 = tqdm(enumerate(test_loader), total=len(test_loader))\n",
    "    probs = []\n",
    "    for i, (images) in tk0:\n",
    "        images = images.to(device)\n",
    "        avg_preds = []\n",
    "        for model in models:\n",
    "            with torch.no_grad():\n",
    "                y_preds1 = model(images)\n",
    "                y_preds2 = model(images.flip(-1))\n",
    "#                 y_preds3 = model(images.flip(-2))\n",
    "            y_preds = (y_preds1.sigmoid().to('cpu').numpy() + y_preds2.sigmoid().to('cpu').numpy()) / 2\n",
    "            avg_preds.append(y_preds)\n",
    "        avg_preds = np.mean(avg_preds, axis=0)\n",
    "        probs.append(avg_preds)\n",
    "    probs = np.concatenate(probs)\n",
    "    return probs"
   ]
  },
  {
   "cell_type": "code",
   "execution_count": 8,
   "metadata": {
    "execution": {
     "iopub.execute_input": "2021-03-02T03:51:54.859431Z",
     "iopub.status.busy": "2021-03-02T03:51:54.858679Z",
     "iopub.status.idle": "2021-03-02T03:52:06.582909Z",
     "shell.execute_reply": "2021-03-02T03:52:06.582284Z"
    },
    "papermill": {
     "duration": 11.739694,
     "end_time": "2021-03-02T03:52:06.583078",
     "exception": false,
     "start_time": "2021-03-02T03:51:54.843384",
     "status": "completed"
    },
    "tags": []
   },
   "outputs": [],
   "source": [
    "model = ResNet200D()\n",
    "model.load_state_dict(torch.load(MODEL_PATH)['model'])\n",
    "model.eval()\n",
    "models = [model.to(device)]"
   ]
  },
  {
   "cell_type": "code",
   "execution_count": 9,
   "metadata": {
    "execution": {
     "iopub.execute_input": "2021-03-02T03:52:06.614003Z",
     "iopub.status.busy": "2021-03-02T03:52:06.612839Z",
     "iopub.status.idle": "2021-03-02T03:52:06.627324Z",
     "shell.execute_reply": "2021-03-02T03:52:06.626721Z"
    },
    "papermill": {
     "duration": 0.032477,
     "end_time": "2021-03-02T03:52:06.627471",
     "exception": false,
     "start_time": "2021-03-02T03:52:06.594994",
     "status": "completed"
    },
    "tags": []
   },
   "outputs": [],
   "source": [
    "submit = len(pd.read_csv('../input/ranzcr-clip-catheter-line-classification/sample_submission.csv')) != 3582"
   ]
  },
  {
   "cell_type": "code",
   "execution_count": 10,
   "metadata": {
    "execution": {
     "iopub.execute_input": "2021-03-02T03:52:06.657639Z",
     "iopub.status.busy": "2021-03-02T03:52:06.656734Z",
     "iopub.status.idle": "2021-03-02T03:52:06.862572Z",
     "shell.execute_reply": "2021-03-02T03:52:06.861785Z"
    },
    "papermill": {
     "duration": 0.223911,
     "end_time": "2021-03-02T03:52:06.862738",
     "exception": false,
     "start_time": "2021-03-02T03:52:06.638827",
     "status": "completed"
    },
    "tags": []
   },
   "outputs": [],
   "source": [
    "if submit:\n",
    "    test_dataset = TestDataset(test, transform=get_transforms())\n",
    "    test_loader = DataLoader(test_dataset, batch_size=BATCH_SIZE, shuffle=False, \n",
    "                             num_workers=4 , pin_memory=True)\n",
    "    predictions = inference(models, test_loader, device)\n",
    "    target_cols = test.iloc[:, 1:12].columns.tolist()\n",
    "    test[target_cols] = predictions\n",
    "    test[['StudyInstanceUID'] + target_cols].to_csv('submission.csv', index=False)\n",
    "    test.head()\n",
    "else:\n",
    "    test.to_csv('submission.csv', index=False)"
   ]
  },
  {
   "cell_type": "code",
   "execution_count": null,
   "metadata": {
    "papermill": {
     "duration": 0.010896,
     "end_time": "2021-03-02T03:52:06.884990",
     "exception": false,
     "start_time": "2021-03-02T03:52:06.874094",
     "status": "completed"
    },
    "tags": []
   },
   "outputs": [],
   "source": []
  }
 ],
 "metadata": {
  "kernelspec": {
   "display_name": "Python 3",
   "language": "python",
   "name": "python3"
  },
  "language_info": {
   "codemirror_mode": {
    "name": "ipython",
    "version": 3
   },
   "file_extension": ".py",
   "mimetype": "text/x-python",
   "name": "python",
   "nbconvert_exporter": "python",
   "pygments_lexer": "ipython3",
   "version": "3.7.9"
  },
  "papermill": {
   "default_parameters": {},
   "duration": 27.065133,
   "end_time": "2021-03-02T03:52:08.918955",
   "environment_variables": {},
   "exception": null,
   "input_path": "__notebook__.ipynb",
   "output_path": "__notebook__.ipynb",
   "parameters": {},
   "start_time": "2021-03-02T03:51:41.853822",
   "version": "2.2.2"
  }
 },
 "nbformat": 4,
 "nbformat_minor": 4
}
