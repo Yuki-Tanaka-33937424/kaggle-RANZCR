{
 "cells": [
  {
   "cell_type": "markdown",
   "metadata": {
    "_cell_guid": "b1076dfc-b9ad-4769-8c92-a6c4dae69d19",
    "_uuid": "8f2839f25d086af736a60e9eeb907d3b93b6e0e5",
    "papermill": {
     "duration": 0.016525,
     "end_time": "2021-03-15T01:36:54.871312",
     "exception": false,
     "start_time": "2021-03-15T01:36:54.854787",
     "status": "completed"
    },
    "tags": []
   },
   "source": [
    "## Directory settings"
   ]
  },
  {
   "cell_type": "code",
   "execution_count": 1,
   "metadata": {
    "execution": {
     "iopub.execute_input": "2021-03-15T01:36:54.907955Z",
     "iopub.status.busy": "2021-03-15T01:36:54.907241Z",
     "iopub.status.idle": "2021-03-15T01:36:54.909841Z",
     "shell.execute_reply": "2021-03-15T01:36:54.910232Z"
    },
    "papermill": {
     "duration": 0.023955,
     "end_time": "2021-03-15T01:36:54.910461",
     "exception": false,
     "start_time": "2021-03-15T01:36:54.886506",
     "status": "completed"
    },
    "tags": []
   },
   "outputs": [],
   "source": [
    "# ======================================================\n",
    "# Directory settings\n",
    "# ======================================================\n",
    "import os\n",
    "import pandas as pd\n",
    "\n",
    "OUTPUT_DIR = './'\n",
    "if not os.path.exists(OUTPUT_DIR):\n",
    "    os.makedirs(OUTPUT_DIR)\n",
    "    \n",
    "TRAIN_PATH = '../input/ranzcr-clip-catheter-line-classification/train'"
   ]
  },
  {
   "cell_type": "markdown",
   "metadata": {
    "papermill": {
     "duration": 0.01519,
     "end_time": "2021-03-15T01:36:54.941100",
     "exception": false,
     "start_time": "2021-03-15T01:36:54.925910",
     "status": "completed"
    },
    "tags": []
   },
   "source": [
    "## Data Loading"
   ]
  },
  {
   "cell_type": "code",
   "execution_count": 2,
   "metadata": {
    "execution": {
     "iopub.execute_input": "2021-03-15T01:36:54.983275Z",
     "iopub.status.busy": "2021-03-15T01:36:54.982768Z",
     "iopub.status.idle": "2021-03-15T01:36:55.211240Z",
     "shell.execute_reply": "2021-03-15T01:36:55.210735Z"
    },
    "papermill": {
     "duration": 0.255258,
     "end_time": "2021-03-15T01:36:55.211381",
     "exception": false,
     "start_time": "2021-03-15T01:36:54.956123",
     "status": "completed"
    },
    "tags": []
   },
   "outputs": [],
   "source": [
    "train = pd.read_csv('../input/oof-df-data/train_folds.csv')\n",
    "test = pd.read_csv('../input/ranzcr-clip-catheter-line-classification/sample_submission.csv')\n",
    "train_annotations = pd.read_csv('../input/ranzcr-clip-catheter-line-classification/train_annotations.csv')\n",
    "\n",
    "# delete suspicious data\n",
    "train = train[train['StudyInstanceUID'] != '1.2.826.0.1.3680043.8.498.93345761486297843389996628528592497280'].reset_index(drop=True)\n",
    "train_annotations = train_annotations[train_annotations['StudyInstanceUID'] != '1.2.826.0.1.3680043.8.498.93345761486297843389996628528592497280'].reset_index(drop=True)"
   ]
  },
  {
   "cell_type": "markdown",
   "metadata": {
    "papermill": {
     "duration": 0.01523,
     "end_time": "2021-03-15T01:36:55.242540",
     "exception": false,
     "start_time": "2021-03-15T01:36:55.227310",
     "status": "completed"
    },
    "tags": []
   },
   "source": [
    "## CFG"
   ]
  },
  {
   "cell_type": "code",
   "execution_count": 3,
   "metadata": {
    "execution": {
     "iopub.execute_input": "2021-03-15T01:36:55.280676Z",
     "iopub.status.busy": "2021-03-15T01:36:55.279933Z",
     "iopub.status.idle": "2021-03-15T01:36:55.282791Z",
     "shell.execute_reply": "2021-03-15T01:36:55.282291Z"
    },
    "papermill": {
     "duration": 0.02498,
     "end_time": "2021-03-15T01:36:55.282894",
     "exception": false,
     "start_time": "2021-03-15T01:36:55.257914",
     "status": "completed"
    },
    "tags": []
   },
   "outputs": [],
   "source": [
    "# ====================================================\n",
    "# CFG\n",
    "# ====================================================\n",
    "class CFG:\n",
    "    debug=False\n",
    "    device='GPU' # ['TPU', 'GPU']\n",
    "    nprocs=1 # [1, 8]\n",
    "    print_freq=100\n",
    "    num_workers=4\n",
    "    model_name='resnet200d_320'\n",
    "    student='../input/startingpointschestx/resnet200d_320_chestx.pth'\n",
    "    teacher='../input/005-training-resnext-step1-data/resnet200d_320_fold0_best_loss.pth'\n",
    "    weights=[0.5, 1]\n",
    "    size=640\n",
    "    scheduler='CosineAnnealingLR' # ['ReduceLROnPlateau', 'CosineAnnealingLR', 'CosineAnnealingWarmRestarts']\n",
    "    epochs=5\n",
    "    #factor=0.2 # ReduceLROnPlateau\n",
    "    #patience=4 # ReduceLROnPlateau\n",
    "    #eps=1e-6 # ReduceLROnPlateau\n",
    "    T_max=5 # CosineAnnealingLR\n",
    "    #T_0=5 # CosineAnnealingWarmRestarts\n",
    "    lr=1e-5 # 1e-4\n",
    "    min_lr=1e-6\n",
    "    batch_size=8 # 64\n",
    "    weight_decay=1e-6\n",
    "    gradient_accumulation_steps=1\n",
    "    max_grad_norm=1000\n",
    "    seed=416\n",
    "    target_size=11\n",
    "    target_cols=['ETT - Abnormal', 'ETT - Borderline', 'ETT - Normal',\n",
    "                 'NGT - Abnormal', 'NGT - Borderline', 'NGT - Incompletely Imaged', 'NGT - Normal', \n",
    "                 'CVC - Abnormal', 'CVC - Borderline', 'CVC - Normal',\n",
    "                 'Swan Ganz Catheter Present']\n",
    "    n_fold=5\n",
    "    trn_fold=[0] # [0, 1, 2, 3, 4]\n",
    "    train=True\n",
    "    \n",
    "if CFG.debug:\n",
    "    CFG.epochs = 3\n",
    "    train = train.sample(n=3000, random_state=CFG.seed).reset_index(drop=True)"
   ]
  },
  {
   "cell_type": "code",
   "execution_count": 4,
   "metadata": {
    "execution": {
     "iopub.execute_input": "2021-03-15T01:36:55.321700Z",
     "iopub.status.busy": "2021-03-15T01:36:55.320899Z",
     "iopub.status.idle": "2021-03-15T01:36:55.324165Z",
     "shell.execute_reply": "2021-03-15T01:36:55.323610Z"
    },
    "papermill": {
     "duration": 0.024331,
     "end_time": "2021-03-15T01:36:55.324279",
     "exception": false,
     "start_time": "2021-03-15T01:36:55.299948",
     "status": "completed"
    },
    "tags": []
   },
   "outputs": [],
   "source": [
    "if CFG.device == 'TPU':\n",
    "    import os\n",
    "    os.system('curl https://raw.githubusercontent.com/pytorch/xla/master/contrib/scripts/env-setup.py -o pytorch-xla-env-setup.py')\n",
    "    os.system('python pytorch-xla-env-setup.py --version 1.7 --apt-packages libomp5 libopenblas-dev')\n",
    "    os.system('export XLA_USE_BF16=1')\n",
    "    import torch_xla.core.xla_model as xm\n",
    "    import torch_xla.distributed.parallel_loader as pl\n",
    "    import torch_xla.distributed.xla_multiprocessing as xmp\n",
    "    CFG.lr = CFG.lr * CFG.nprocs\n",
    "    CFG.batch_size = CFG.batch_size // CFG.nprocs"
   ]
  },
  {
   "cell_type": "markdown",
   "metadata": {
    "papermill": {
     "duration": 0.015745,
     "end_time": "2021-03-15T01:36:55.355932",
     "exception": false,
     "start_time": "2021-03-15T01:36:55.340187",
     "status": "completed"
    },
    "tags": []
   },
   "source": [
    "## Library"
   ]
  },
  {
   "cell_type": "code",
   "execution_count": 5,
   "metadata": {
    "execution": {
     "iopub.execute_input": "2021-03-15T01:36:55.397887Z",
     "iopub.status.busy": "2021-03-15T01:36:55.397328Z",
     "iopub.status.idle": "2021-03-15T01:36:59.513454Z",
     "shell.execute_reply": "2021-03-15T01:36:59.512371Z"
    },
    "papermill": {
     "duration": 4.141371,
     "end_time": "2021-03-15T01:36:59.513607",
     "exception": false,
     "start_time": "2021-03-15T01:36:55.372236",
     "status": "completed"
    },
    "tags": []
   },
   "outputs": [],
   "source": [
    "# ====================================================\n",
    "# Library\n",
    "# ====================================================\n",
    "import sys\n",
    "sys.path.append('../input/pytorch-image-models/pytorch-image-models-master')\n",
    "\n",
    "import os\n",
    "import ast\n",
    "import copy\n",
    "import math\n",
    "import time\n",
    "import random\n",
    "import shutil\n",
    "from pathlib import Path\n",
    "from contextlib import contextmanager\n",
    "from collections import defaultdict, Counter\n",
    "\n",
    "import scipy as sp\n",
    "import numpy as np\n",
    "import pandas as pd\n",
    "\n",
    "from sklearn import preprocessing\n",
    "from sklearn.metrics import roc_auc_score\n",
    "from sklearn.utils import check_random_state\n",
    "from sklearn.preprocessing import LabelEncoder\n",
    "from sklearn.model_selection import StratifiedKFold, GroupKFold, KFold\n",
    "\n",
    "from tqdm.auto import tqdm\n",
    "from functools import partial\n",
    "\n",
    "import cv2\n",
    "from PIL import Image\n",
    "\n",
    "import torch\n",
    "import torch.nn as nn\n",
    "import torch.nn.functional as F\n",
    "from torch.optim import Adam, SGD\n",
    "import torchvision.models as models\n",
    "from torch.nn.parameter import Parameter\n",
    "from torch.utils.data import DataLoader, Dataset\n",
    "from torch.optim.lr_scheduler import CosineAnnealingWarmRestarts, CosineAnnealingLR, ReduceLROnPlateau\n",
    "\n",
    "from albumentations import (\n",
    "    Compose, OneOf, Normalize, Resize, RandomResizedCrop, RandomCrop, HorizontalFlip, VerticalFlip, \n",
    "    RandomBrightness, RandomContrast, RandomBrightnessContrast, Rotate, ShiftScaleRotate, Cutout, \n",
    "    IAAAdditiveGaussianNoise, Transpose, HueSaturationValue, CoarseDropout\n",
    "    )\n",
    "from albumentations.pytorch import ToTensorV2\n",
    "from albumentations import ImageOnlyTransform\n",
    "\n",
    "import timm\n",
    "\n",
    "if CFG.device == 'TPU':\n",
    "    import ignite.distributed as idist\n",
    "elif CFG.device == 'GPU':\n",
    "    from torch.cuda.amp import autocast, GradScaler\n",
    "\n",
    "import warnings \n",
    "warnings.filterwarnings('ignore')"
   ]
  },
  {
   "cell_type": "markdown",
   "metadata": {
    "papermill": {
     "duration": 0.017902,
     "end_time": "2021-03-15T01:36:59.549650",
     "exception": false,
     "start_time": "2021-03-15T01:36:59.531748",
     "status": "completed"
    },
    "tags": []
   },
   "source": [
    "## Utils"
   ]
  },
  {
   "cell_type": "code",
   "execution_count": 6,
   "metadata": {
    "execution": {
     "iopub.execute_input": "2021-03-15T01:36:59.595806Z",
     "iopub.status.busy": "2021-03-15T01:36:59.595211Z",
     "iopub.status.idle": "2021-03-15T01:36:59.602637Z",
     "shell.execute_reply": "2021-03-15T01:36:59.601981Z"
    },
    "papermill": {
     "duration": 0.035483,
     "end_time": "2021-03-15T01:36:59.602760",
     "exception": false,
     "start_time": "2021-03-15T01:36:59.567277",
     "status": "completed"
    },
    "tags": []
   },
   "outputs": [],
   "source": [
    "# ====================================================\n",
    "# Utils\n",
    "# ====================================================\n",
    "def get_score(y_true, y_pred):\n",
    "    scores = []\n",
    "    for i in range(y_true.shape[1]):\n",
    "        score = roc_auc_score(y_true[:,i], y_pred[:,i])\n",
    "        scores.append(score)\n",
    "    avg_score = np.mean(scores)\n",
    "    return avg_score, scores\n",
    "\n",
    "@contextmanager\n",
    "def timer(name):\n",
    "    t0 = time.time()\n",
    "    LOGGER.info(f'[{name}] start')\n",
    "    yield\n",
    "    LOGGER.info(f'[{name}] done in {time.time() - t0:.0f} s.')\n",
    "\n",
    "\n",
    "def init_logger(log_file=OUTPUT_DIR+'train.log'):\n",
    "    from logging import getLogger, INFO, FileHandler,  Formatter,  StreamHandler\n",
    "    logger = getLogger(__name__)\n",
    "    logger.setLevel(INFO)\n",
    "    handler1 = StreamHandler()\n",
    "    handler1.setFormatter(Formatter(\"%(message)s\"))\n",
    "    handler2 = FileHandler(filename=log_file)\n",
    "    handler2.setFormatter(Formatter(\"%(message)s\"))\n",
    "    logger.addHandler(handler1)\n",
    "    logger.addHandler(handler2)\n",
    "    return logger\n",
    "\n",
    "LOGGER = init_logger()\n",
    "\n",
    "def seed_torch(seed=42):\n",
    "    random.seed(seed)\n",
    "    os.environ['PYTHONHASHSEED'] = str(seed)\n",
    "    np.random.seed(seed)\n",
    "    torch.manual_seed(seed)\n",
    "    torch.cuda.manual_seed(seed)\n",
    "    torch.backends.cudnn.deterministic = True\n",
    "\n",
    "seed_torch(seed=CFG.seed)"
   ]
  },
  {
   "cell_type": "markdown",
   "metadata": {
    "papermill": {
     "duration": 0.016844,
     "end_time": "2021-03-15T01:36:59.637398",
     "exception": false,
     "start_time": "2021-03-15T01:36:59.620554",
     "status": "completed"
    },
    "tags": []
   },
   "source": [
    "## CV splits"
   ]
  },
  {
   "cell_type": "code",
   "execution_count": 7,
   "metadata": {
    "execution": {
     "iopub.execute_input": "2021-03-15T01:36:59.678224Z",
     "iopub.status.busy": "2021-03-15T01:36:59.677326Z",
     "iopub.status.idle": "2021-03-15T01:36:59.688520Z",
     "shell.execute_reply": "2021-03-15T01:36:59.688976Z"
    },
    "papermill": {
     "duration": 0.03404,
     "end_time": "2021-03-15T01:36:59.689173",
     "exception": false,
     "start_time": "2021-03-15T01:36:59.655133",
     "status": "completed"
    },
    "tags": []
   },
   "outputs": [
    {
     "data": {
      "text/plain": [
       "fold\n",
       "0    6002\n",
       "1    6041\n",
       "2    5991\n",
       "3    6018\n",
       "4    6030\n",
       "dtype: int64"
      ]
     },
     "metadata": {},
     "output_type": "display_data"
    }
   ],
   "source": [
    "folds = train.copy()\n",
    "# Fold = GroupKFold(n_splits=CFG.n_fold)\n",
    "# groups = folds['PatientID'].values\n",
    "# for n, (train_index, val_index) in enumerate(Fold.split(folds, folds[CFG.target_cols], groups)):\n",
    "#     folds.loc[val_index, 'fold'] = int(n)\n",
    "# folds['fold'] = folds['fold'].astype(int)\n",
    "display(folds.groupby('fold').size())"
   ]
  },
  {
   "cell_type": "markdown",
   "metadata": {
    "papermill": {
     "duration": 0.019139,
     "end_time": "2021-03-15T01:36:59.727808",
     "exception": false,
     "start_time": "2021-03-15T01:36:59.708669",
     "status": "completed"
    },
    "tags": []
   },
   "source": [
    "## Dataset"
   ]
  },
  {
   "cell_type": "code",
   "execution_count": 8,
   "metadata": {
    "execution": {
     "iopub.execute_input": "2021-03-15T01:36:59.781726Z",
     "iopub.status.busy": "2021-03-15T01:36:59.780895Z",
     "iopub.status.idle": "2021-03-15T01:36:59.784222Z",
     "shell.execute_reply": "2021-03-15T01:36:59.783618Z"
    },
    "papermill": {
     "duration": 0.037324,
     "end_time": "2021-03-15T01:36:59.784352",
     "exception": false,
     "start_time": "2021-03-15T01:36:59.747028",
     "status": "completed"
    },
    "tags": []
   },
   "outputs": [],
   "source": [
    "# ====================================================\n",
    "# Dataset\n",
    "# ====================================================\n",
    "COLOR_MAP = {'ETT - Abnormal': (255, 0, 0),\n",
    "             'ETT - Borderline': (0, 255, 0),\n",
    "             'ETT - Normal': (0, 0, 255),\n",
    "             'NGT - Abnormal': (255, 255, 0),\n",
    "             'NGT - Borderline': (255, 0, 255),\n",
    "             'NGT - Incompletely Imaged': (0, 255, 255),\n",
    "             'NGT - Normal': (128, 0, 0),\n",
    "             'CVC - Abnormal': (0, 128, 0),\n",
    "             'CVC - Borderline': (0, 0, 128),\n",
    "             'CVC - Normal': (128, 128, 0),\n",
    "             'Swan Ganz Catheter Present': (128, 0, 128),\n",
    "            }\n",
    "\n",
    "class TrainDataset(Dataset):\n",
    "    def __init__(self, df, df_annotations, use_annot=False, annot_size=50, transform=None):\n",
    "        self.df = df\n",
    "        self.df_annotations = df_annotations\n",
    "        self.use_annot = use_annot\n",
    "        self.annot_size = annot_size\n",
    "        self.file_names = df['StudyInstanceUID'].values\n",
    "        self.labels = df[CFG.target_cols].values\n",
    "        self.transform = transform\n",
    "\n",
    "    def __len__(self):\n",
    "        return len(self.df)\n",
    "    \n",
    "    def __getitem__(self, idx):\n",
    "        file_name = self.file_names[idx]\n",
    "        file_path = f'{TRAIN_PATH}/{file_name}.jpg'\n",
    "        image = cv2.imread(file_path)\n",
    "        image = cv2.cvtColor(image, cv2.COLOR_BGR2RGB) \n",
    "        labels = torch.tensor(self.labels[idx]).float()\n",
    "        if self.use_annot:\n",
    "            image_annot = image.copy()\n",
    "            query_string = f\"StudyInstanceUID == '{file_name}'\"\n",
    "            df = self.df_annotations.query(query_string)\n",
    "            for i, row in df.iterrows():\n",
    "                label = row[\"label\"]\n",
    "                data = np.array(ast.literal_eval(row[\"data\"]))\n",
    "                for d in data:\n",
    "                    image_annot[d[1]-self.annot_size//2:d[1]+self.annot_size//2,\n",
    "                                d[0]-self.annot_size//2:d[0]+self.annot_size//2,\n",
    "                                :] = COLOR_MAP[label]\n",
    "            if self.transform:\n",
    "                augmented = self.transform(image=image, image_annot=image_annot)\n",
    "                image = augmented['image']\n",
    "                image_annot = augmented['image_annot']\n",
    "            return image, image_annot, labels\n",
    "        \n",
    "        else:\n",
    "            if self.transform:\n",
    "                augmented = self.transform(image=image)\n",
    "                image = augmented['image']\n",
    "            return image, labels"
   ]
  },
  {
   "cell_type": "markdown",
   "metadata": {
    "papermill": {
     "duration": 0.019223,
     "end_time": "2021-03-15T01:36:59.823156",
     "exception": false,
     "start_time": "2021-03-15T01:36:59.803933",
     "status": "completed"
    },
    "tags": []
   },
   "source": [
    "## Transforms"
   ]
  },
  {
   "cell_type": "code",
   "execution_count": 9,
   "metadata": {
    "execution": {
     "iopub.execute_input": "2021-03-15T01:36:59.875029Z",
     "iopub.status.busy": "2021-03-15T01:36:59.874211Z",
     "iopub.status.idle": "2021-03-15T01:36:59.877551Z",
     "shell.execute_reply": "2021-03-15T01:36:59.877025Z"
    },
    "papermill": {
     "duration": 0.034775,
     "end_time": "2021-03-15T01:36:59.877670",
     "exception": false,
     "start_time": "2021-03-15T01:36:59.842895",
     "status": "completed"
    },
    "tags": []
   },
   "outputs": [],
   "source": [
    "# ====================================================\n",
    "# Transforms\n",
    "# ====================================================\n",
    "def get_transforms(*, data):\n",
    "    \n",
    "    if data == 'train':\n",
    "        return Compose([\n",
    "            #Resize(CFG.size, CFG.size),\n",
    "            RandomResizedCrop(CFG.size, CFG.size, scale=(0.85, 1.0)),\n",
    "            HorizontalFlip(p=0.5),\n",
    "            RandomBrightnessContrast(p=0.2, brightness_limit=(-0.2, 0.2), contrast_limit=(-0.2, 0.2)),\n",
    "            HueSaturationValue(p=0.2, hue_shift_limit=0.2, sat_shift_limit=0.2, val_shift_limit=0.2),\n",
    "            ShiftScaleRotate(p=0.2, shift_limit=0.0625, scale_limit=0.2, rotate_limit=20),\n",
    "            CoarseDropout(p=0.2),\n",
    "            Cutout(p=0.2, max_h_size=16, max_w_size=16, fill_value=(0., 0., 0.), num_holes=16),\n",
    "            Normalize(\n",
    "                mean=[0.485, 0.456, 0.406],\n",
    "                std=[0.229, 0.224, 0.225],\n",
    "            ),\n",
    "            ToTensorV2(),\n",
    "        ], additional_targets={'image_annot': 'image'})\n",
    "    \n",
    "    elif data == 'check':\n",
    "        return Compose([\n",
    "            #Resize(CFG.size, CFG.size),\n",
    "            RandomResizedCrop(CFG.size, CFG.size, scale=(0.85, 1.0)),\n",
    "            HorizontalFlip(p=0.5),\n",
    "            RandomBrightnessContrast(p=0.2, brightness_limit=(-0.2, 0.2), contrast_limit=(-0.2, 0.2)),\n",
    "            HueSaturationValue(p=0.2, hue_shift_limit=0.2, sat_shift_limit=0.2, val_shift_limit=0.2),\n",
    "            ShiftScaleRotate(p=0.2, shift_limit=0.0625, scale_limit=0.2, rotate_limit=20),\n",
    "            CoarseDropout(p=0.2),\n",
    "            Cutout(p=0.2, max_h_size=16, max_w_size=16, fill_value=(0., 0., 0.), num_holes=16),\n",
    "            #Normalize(\n",
    "            #    mean=[0.485, 0.456, 0.406],\n",
    "            #    std=[0.229, 0.224, 0.225],\n",
    "            #),\n",
    "            ToTensorV2(),\n",
    "        ], additional_targets={'image_annot': 'image'})\n",
    "    \n",
    "    elif data == 'valid':\n",
    "        return Compose([\n",
    "            Resize(CFG.size, CFG.size),\n",
    "            Normalize(\n",
    "                mean=[0.485, 0.456, 0.406],\n",
    "                std=[0.229, 0.224, 0.225],\n",
    "            ),\n",
    "            ToTensorV2(),\n",
    "        ])"
   ]
  },
  {
   "cell_type": "code",
   "execution_count": 10,
   "metadata": {
    "execution": {
     "iopub.execute_input": "2021-03-15T01:36:59.927463Z",
     "iopub.status.busy": "2021-03-15T01:36:59.926599Z",
     "iopub.status.idle": "2021-03-15T01:37:02.204272Z",
     "shell.execute_reply": "2021-03-15T01:37:02.205235Z"
    },
    "papermill": {
     "duration": 2.30842,
     "end_time": "2021-03-15T01:37:02.205443",
     "exception": false,
     "start_time": "2021-03-15T01:36:59.897023",
     "status": "completed"
    },
    "tags": []
   },
   "outputs": [
    {
     "data": {
      "image/png": "[encoded data removed]",
      "text/plain": [
       "<Figure size 576x576 with 2 Axes>"
      ]
     },
     "metadata": {
      "needs_background": "light"
     },
     "output_type": "display_data"
    },
    {
     "data": {
      "image/png": "[encoded data removed]",
      "text/plain": [
       "<Figure size 576x576 with 2 Axes>"
      ]
     },
     "metadata": {
      "needs_background": "light"
     },
     "output_type": "display_data"
    },
    {
     "data": {
      "image/png": "[encoded data removed]",
      "text/plain": [
       "<Figure size 576x576 with 2 Axes>"
      ]
     },
     "metadata": {
      "needs_background": "light"
     },
     "output_type": "display_data"
    },
    {
     "data": {
      "image/png": "[encoded data removed]",
      "text/plain": [
       "<Figure size 576x576 with 2 Axes>"
      ]
     },
     "metadata": {
      "needs_background": "light"
     },
     "output_type": "display_data"
    },
    {
     "data": {
      "image/png": "[encoded data removed]",
      "text/plain": [
       "<Figure size 576x576 with 2 Axes>"
      ]
     },
     "metadata": {
      "needs_background": "light"
     },
     "output_type": "display_data"
    }
   ],
   "source": [
    "from matplotlib import pyplot as plt\n",
    "\n",
    "train_dataset = TrainDataset(folds[folds['StudyInstanceUID'].isin(train_annotations['StudyInstanceUID'].unique())].reset_index(drop=True), \n",
    "                             train_annotations, use_annot=True, transform=get_transforms(data='check'))\n",
    "\n",
    "for i in range(5):\n",
    "    image, image_annot, label = train_dataset[i]\n",
    "    fig, axes = plt.subplots(1, 2, figsize=(8, 8))\n",
    "    axes[0].imshow(image.transpose(0, 1).transpose(1, 2))  # どのタイミングでshapeが(C, H, W)になっていたのかがわからない。\n",
    "    axes[1].imshow(image_annot.transpose(0, 1).transpose(1, 2))\n",
    "    plt.title(f'label: {label}')\n",
    "    plt.show()"
   ]
  },
  {
   "cell_type": "markdown",
   "metadata": {
    "papermill": {
     "duration": 0.026183,
     "end_time": "2021-03-15T01:37:02.279437",
     "exception": false,
     "start_time": "2021-03-15T01:37:02.253254",
     "status": "completed"
    },
    "tags": []
   },
   "source": [
    "## MODEL"
   ]
  },
  {
   "cell_type": "code",
   "execution_count": 11,
   "metadata": {
    "execution": {
     "iopub.execute_input": "2021-03-15T01:37:02.371407Z",
     "iopub.status.busy": "2021-03-15T01:37:02.370040Z",
     "iopub.status.idle": "2021-03-15T01:37:02.372261Z",
     "shell.execute_reply": "2021-03-15T01:37:02.370691Z"
    },
    "papermill": {
     "duration": 0.06797,
     "end_time": "2021-03-15T01:37:02.372407",
     "exception": false,
     "start_time": "2021-03-15T01:37:02.304437",
     "status": "completed"
    },
    "tags": []
   },
   "outputs": [],
   "source": [
    "class PAM_Module(nn.Module):\n",
    "    \"\"\" Position attention module\"\"\"\n",
    "    #Ref from SAGAN\n",
    "    def __init__(self, in_dim):\n",
    "        super(PAM_Module, self).__init__()\n",
    "        self.chanel_in = in_dim\n",
    "\n",
    "        self.query_conv = nn.Conv2d(in_channels=in_dim, out_channels=in_dim//8, kernel_size=1)\n",
    "        self.key_conv = nn.Conv2d(in_channels=in_dim, out_channels=in_dim//8, kernel_size=1)\n",
    "        self.value_conv = nn.Conv2d(in_channels=in_dim, out_channels=in_dim, kernel_size=1)\n",
    "        self.gamma = nn.Parameter(torch.zeros(1))\n",
    "\n",
    "    def forward(self, x):\n",
    "        \"\"\"\n",
    "            inputs :\n",
    "                x : input feature maps( B X C X H X W)\n",
    "            returns :\n",
    "                out : attention value + input feature\n",
    "                attention: B X (HxW) X (HxW)\n",
    "        \"\"\"\n",
    "        m_batchsize, C, height, width = x.size()\n",
    "        proj_query = self.query_conv(x).view(m_batchsize, -1, width*height).permute(0, 2, 1)\n",
    "        proj_key = self.key_conv(x).view(m_batchsize, -1, width*height)\n",
    "        energy = torch.bmm(proj_query, proj_key)\n",
    "        attention = torch.softmax(energy, dim=-1)\n",
    "        proj_value = self.value_conv(x).view(m_batchsize, -1, width*height)\n",
    "\n",
    "        out = torch.bmm(proj_value, attention.permute(0, 2, 1))\n",
    "        out = out.view(m_batchsize, C, height, width)\n",
    "\n",
    "        out = self.gamma*out + x\n",
    "        return out\n",
    "\n",
    "\n",
    "class CAM_Module(nn.Module):\n",
    "    \"\"\" Channel attention module\"\"\"\n",
    "    def __init__(self, in_dim):\n",
    "        super(CAM_Module, self).__init__()\n",
    "        self.chanel_in = in_dim\n",
    "        self.gamma = nn.Parameter(torch.zeros(1))\n",
    "\n",
    "    def forward(self,x):\n",
    "        \"\"\"\n",
    "            inputs :\n",
    "                x : input feature maps( B X C X H X W)\n",
    "            returns :\n",
    "                out : attention value + input feature\n",
    "                attention: B X C X C\n",
    "        \"\"\"\n",
    "        m_batchsize, C, height, width = x.size()\n",
    "        proj_query = x.view(m_batchsize, C, -1)\n",
    "        proj_key = x.view(m_batchsize, C, -1).permute(0, 2, 1)\n",
    "        energy = torch.bmm(proj_query, proj_key)\n",
    "        energy_new = torch.max(energy, -1, keepdim=True)[0].expand_as(energy)-energy\n",
    "        attention = torch.softmax(energy_new, dim=-1)\n",
    "        proj_value = x.view(m_batchsize, C, -1)\n",
    "\n",
    "        out = torch.bmm(attention, proj_value)\n",
    "        out = out.view(m_batchsize, C, height, width)\n",
    "\n",
    "        out = self.gamma*out + x\n",
    "        return out\n",
    "\n",
    "\n",
    "class CBAM(nn.Module):\n",
    "    def __init__(self, in_channels):\n",
    "        # def __init__(self):\n",
    "        super(CBAM, self).__init__()\n",
    "        inter_channels = in_channels // 4\n",
    "        self.conv1_c = nn.Sequential(nn.Conv2d(in_channels, inter_channels, 3, padding=1, bias=False),\n",
    "                                     nn.BatchNorm2d(inter_channels),\n",
    "                                     nn.ReLU(inplace=True))\n",
    "        \n",
    "        self.conv1_s = nn.Sequential(nn.Conv2d(in_channels, inter_channels, 3, padding=1, bias=False),\n",
    "                                     nn.BatchNorm2d(inter_channels),\n",
    "                                     nn.ReLU(inplace=True))\n",
    "\n",
    "        self.channel_gate = CAM_Module(inter_channels)\n",
    "        self.spatial_gate = PAM_Module(inter_channels)\n",
    "\n",
    "        self.conv2_c = nn.Sequential(nn.Conv2d(inter_channels, in_channels, 3, padding=1, bias=False),\n",
    "                                     nn.BatchNorm2d(in_channels),\n",
    "                                     nn.ReLU(inplace=True))\n",
    "        self.conv2_a = nn.Sequential(nn.Conv2d(inter_channels, in_channels, 3, padding=1, bias=False),\n",
    "                                     nn.BatchNorm2d(in_channels),\n",
    "                                     nn.ReLU(inplace=True))\n",
    "\n",
    "    def forward(self, x):\n",
    "        feat1 = self.conv1_c(x)\n",
    "        chnl_att = self.channel_gate(feat1)\n",
    "        chnl_att = self.conv2_c(chnl_att)\n",
    "\n",
    "        feat2 = self.conv1_s(x)\n",
    "        spat_att = self.spatial_gate(feat2)\n",
    "        spat_att = self.conv2_a(spat_att)\n",
    "\n",
    "        x_out = chnl_att + spat_att\n",
    "\n",
    "        return x_out"
   ]
  },
  {
   "cell_type": "code",
   "execution_count": 12,
   "metadata": {
    "execution": {
     "iopub.execute_input": "2021-03-15T01:37:02.466154Z",
     "iopub.status.busy": "2021-03-15T01:37:02.463748Z",
     "iopub.status.idle": "2021-03-15T01:37:02.482184Z",
     "shell.execute_reply": "2021-03-15T01:37:02.483075Z"
    },
    "papermill": {
     "duration": 0.069869,
     "end_time": "2021-03-15T01:37:02.483236",
     "exception": false,
     "start_time": "2021-03-15T01:37:02.413367",
     "status": "completed"
    },
    "tags": []
   },
   "outputs": [],
   "source": [
    "# ====================================================\n",
    "# MODEL\n",
    "# ====================================================\n",
    "class CustomResNet200D(nn.Module):\n",
    "    def __init__(self, model_name='resnet200d_320', pretrained=False):\n",
    "        super().__init__()\n",
    "        self.model = timm.create_model(model_name, pretrained=False)\n",
    "        n_features  = self.model.fc.in_features\n",
    "        self.model.fc = nn.Linear(n_features, CFG.target_size)\n",
    "        if pretrained:\n",
    "            pretrained_path = '../input/startingpointschestx/resnet200d_320_chestx.pth'\n",
    "#             self.model.load_state_dict(torch.load(pretrained_path, map_location=torch.device('cpu'))['model'])\n",
    "            \n",
    "            checkpoint = torch.load(pretrained_path, map_location='cpu')['model']\n",
    "            for key in list(checkpoint.keys()):\n",
    "                if 'model.' in key:\n",
    "                    checkpoint[key.replace('model.', '')] = checkpoint[key]\n",
    "                    del checkpoint[key]\n",
    "            self.model.load_state_dict(checkpoint) \n",
    "            \n",
    "            print(f'load {model_name} pretrained model')\n",
    "        n_features = self.model.fc.in_features\n",
    "        self.model.global_pool = nn.Identity()\n",
    "        self.model.fc = nn.Identity()\n",
    "        self.pooling = nn.AdaptiveAvgPool2d(1)\n",
    "        self.fc = nn.Linear(n_features, CFG.target_size)\n",
    "        \n",
    "    def forward(self, x):\n",
    "        bs = x.size(0)\n",
    "        features = self.model(x)\n",
    "        pooled_features = self.pooling(features).view(bs, -1)\n",
    "        output = self.fc(pooled_features)\n",
    "        return features, pooled_features, output\n",
    "        \n",
    "    \n",
    "\n",
    "class CustomResNet200D_WLF(nn.Module):\n",
    "    def __init__(self, model_name='resnet200d_320', pretrained=False):\n",
    "        super().__init__()\n",
    "        self.model = timm.create_model(model_name, pretrained=False)\n",
    "        n_features  = self.model.fc.in_features\n",
    "        self.model.fc = nn.Linear(n_features, CFG.target_size)\n",
    "        if pretrained:\n",
    "            pretrained_path = '../input/startingpointschestx/resnet200d_320_chestx.pth'\n",
    "#             self.model.load_state_dict(torch.load(pretrained_path, map_location=torch.device('cpu'))['model'])\n",
    "            \n",
    "            checkpoint = torch.load(pretrained_path, map_location='cpu')['model']\n",
    "            for key in list(checkpoint.keys()):\n",
    "                if 'model.' in key:\n",
    "                    checkpoint[key.replace('model.', '')] = checkpoint[key]\n",
    "                    del checkpoint[key]\n",
    "            self.model.load_state_dict(checkpoint) \n",
    "            \n",
    "            print(f'load {model_name} pretrained model')\n",
    "        n_features = self.model.fc.in_features\n",
    "        self.model.global_pool = nn.Identity()\n",
    "        self.model.fc = nn.Identity()\n",
    "        self.pooling = nn.AdaptiveAvgPool2d(1)\n",
    "#         self.fc = nn.Linear(n_features, CFG.target_size)\n",
    "        \n",
    "        self.local_fe = CBAM(n_features)\n",
    "        self.classifier = nn.Sequential(nn.Linear(n_features + n_features, n_features), \n",
    "                                        nn.BatchNorm1d(n_features),\n",
    "                                        nn.ReLU(inplace=True),\n",
    "                                        nn.Linear(n_features, CFG.target_size))\n",
    "        \n",
    "    def forward(self, x):\n",
    "        bs = x.size(0)\n",
    "        features = self.model(x)\n",
    "        \n",
    "        global_features = self.pooling(features).view(bs, -1)\n",
    "        \n",
    "        local_features = self.local_fe(features)\n",
    "        local_features = torch.sum(local_features, dim=[2, 3])  # ここ、どうしてsum？GAPではない？\n",
    "        \n",
    "        all_features = torch.cat([global_features, local_features], dim=1)\n",
    "        output = self.classifier(all_features)\n",
    "        \n",
    "        return features, all_features, output"
   ]
  },
  {
   "cell_type": "code",
   "execution_count": 13,
   "metadata": {
    "execution": {
     "iopub.execute_input": "2021-03-15T01:37:02.579551Z",
     "iopub.status.busy": "2021-03-15T01:37:02.575779Z",
     "iopub.status.idle": "2021-03-15T01:37:02.582881Z",
     "shell.execute_reply": "2021-03-15T01:37:02.580146Z"
    },
    "papermill": {
     "duration": 0.058014,
     "end_time": "2021-03-15T01:37:02.582992",
     "exception": false,
     "start_time": "2021-03-15T01:37:02.524978",
     "status": "completed"
    },
    "tags": []
   },
   "outputs": [],
   "source": [
    "class CustomLoss(nn.Module):\n",
    "    def __init__(self, weights=[1, 1]):\n",
    "        super(CustomLoss, self).__init__()\n",
    "        self.weights = weights\n",
    "        \n",
    "    def forward(self, teacher_features, features, y_pred, labels):\n",
    "        consistency_loss = nn.MSELoss()(teacher_features.view(-1), features.view(-1))\n",
    "        cls_loss = nn.BCEWithLogitsLoss()(y_pred, labels)\n",
    "        loss = self.weights[0] * consistency_loss + self.weights[1] * cls_loss\n",
    "        return loss"
   ]
  },
  {
   "cell_type": "markdown",
   "metadata": {
    "papermill": {
     "duration": 0.032153,
     "end_time": "2021-03-15T01:37:02.661894",
     "exception": false,
     "start_time": "2021-03-15T01:37:02.629741",
     "status": "completed"
    },
    "tags": []
   },
   "source": [
    "## Helper functions"
   ]
  },
  {
   "cell_type": "code",
   "execution_count": 14,
   "metadata": {
    "execution": {
     "iopub.execute_input": "2021-03-15T01:37:02.742791Z",
     "iopub.status.busy": "2021-03-15T01:37:02.742089Z",
     "iopub.status.idle": "2021-03-15T01:37:02.744683Z",
     "shell.execute_reply": "2021-03-15T01:37:02.745164Z"
    },
    "papermill": {
     "duration": 0.058059,
     "end_time": "2021-03-15T01:37:02.745297",
     "exception": false,
     "start_time": "2021-03-15T01:37:02.687238",
     "status": "completed"
    },
    "tags": []
   },
   "outputs": [],
   "source": [
    "# ====================================================\n",
    "# Helper functions\n",
    "# ====================================================\n",
    "class AverageMeter(object):\n",
    "    \"\"\"Computes and stores the average and current value\"\"\"\n",
    "    def __init__(self):\n",
    "        self.reset()\n",
    "\n",
    "    def reset(self):\n",
    "        self.val = 0\n",
    "        self.avg = 0\n",
    "        self.sum = 0\n",
    "        self.count = 0\n",
    "\n",
    "    def update(self, val, n=1):\n",
    "        self.val = val\n",
    "        self.sum += val * n\n",
    "        self.count += n\n",
    "        self.avg = self.sum / self.count\n",
    "        \n",
    "def asMinutes(s):\n",
    "    m = math.floor(s / 60)\n",
    "    s -= m * 60\n",
    "    return '%dm %ds' % (m, s)\n",
    "\n",
    "\n",
    "def timeSince(since, percent):\n",
    "    now = time.time()\n",
    "    s = now - since\n",
    "    es = s / (percent)\n",
    "    rs = es - s\n",
    "    return '%s (remain %s)' % (asMinutes(s), asMinutes(rs))\n",
    "\n",
    "def train_fn(train_loader, teacher_model, model, criterion, optimizer, epoch, scheduler, device):\n",
    "    if CFG.device == 'GPU':\n",
    "        scaler = GradScaler()\n",
    "    batch_time = AverageMeter()\n",
    "    data_time = AverageMeter()\n",
    "    losses = AverageMeter()\n",
    "    scores = AverageMeter()\n",
    "    # switch to train mode\n",
    "    model.train()\n",
    "    start = end = time.time()\n",
    "    global_step = 0\n",
    "    for step, (images, images_annot, labels) in enumerate(train_loader):\n",
    "        # measure data loading time\n",
    "        data_time.update(time.time() - end)\n",
    "        with torch.no_grad():\n",
    "            teacher_features, _, _ = teacher_model(images_annot.to(device))\n",
    "        images = images.to(device)\n",
    "        labels = labels.to(device)\n",
    "        batch_size = labels.size(0)\n",
    "        if CFG.device == 'GPU':\n",
    "            with autocast():\n",
    "                features, _, y_preds = model(images)\n",
    "                loss = criterion(teacher_features, features, y_preds, labels)\n",
    "                # record loss\n",
    "                losses.update(loss.item(), batch_size)\n",
    "                if CFG.gradient_accumulation_steps > 1:\n",
    "                    loss = loss / CFG.gradient_accumulation_steps\n",
    "                scaler.scale(loss).backward()\n",
    "                grad_norm = torch.nn.utils.clip_grad_norm_(model.parameters(), CFG.max_grad_norm)\n",
    "                if (step + 1) % CFG.gradient_accumulation_steps == 0:\n",
    "                    scaler.step(optimizer)\n",
    "                    scaler.update()\n",
    "                    optimizer.zero_grad()\n",
    "                    global_step += 1\n",
    "        elif CFG.device == 'TPU':\n",
    "            features, _, y_preds = model(images)\n",
    "            loss = criterion(teacher_features, features, y_preds, labels)\n",
    "            # record loss\n",
    "            losses.update(loss.item(), batch_size)\n",
    "            if CFG.gradient_accumulation_steps > 1:\n",
    "                loss = loss / CFG.gradient_accumulation_steps\n",
    "            loss.backward()\n",
    "            grad_norm = torch.nn.utils.clip_grad_norm_(model.parameters(), CFG.max_grad_norm)\n",
    "            if (step + 1) % CFG.gradient_accumulation_steps == 0:\n",
    "                xm.optimizer_step(optimizer, barrier=True)\n",
    "                optimizer.zero_grad()\n",
    "                global_step += 1\n",
    "        # measure elapsed time\n",
    "        batch_time.update(time.time() - end)\n",
    "        end = time.time() \n",
    "        if CFG.device == 'GPU':\n",
    "            if step % CFG.print_freq == 0 or step == (len(train_loader)-1):\n",
    "                print('Epoch: [{0}][{1}/{2}] '\n",
    "                      'Data {data_time.val:.3f} ({data_time.avg:.3f}) '\n",
    "                      'Elapsed {remain:s} '\n",
    "                      'Loss: {loss.val:.4f}({loss.avg:.4f}) '\n",
    "                      'Grad: {grad_norm:.4f}  '\n",
    "                      #'LR: {lr:.6f}  '\n",
    "                      .format(\n",
    "                       epoch+1, step, len(train_loader), batch_time=batch_time,\n",
    "                       data_time=data_time, loss=losses,\n",
    "                       remain=timeSince(start, float(step+1)/len(train_loader)),\n",
    "                       grad_norm=grad_norm,\n",
    "                       #lr=scheduler.get_lr()[0],\n",
    "                       ))\n",
    "        elif CFG.device == 'TPU':\n",
    "            if step % CFG.print_freq == 0 or step == (len(train_loader)-1):\n",
    "                xm.master_print('Epoch: [{0}][{1}/{2}] '\n",
    "                                'Data {data_time.val:.3f} ({data_time.avg:.3f}) '\n",
    "                                'Elapsed {remain:s} '\n",
    "                                'Loss: {loss.val:.4f}({loss.avg:.4f}) '\n",
    "                                'Grad: {grad_norm:.4f}  '\n",
    "                                #'LR: {lr:.6f}  '\n",
    "                                .format(\n",
    "                                epoch+1, step, len(train_loader), batch_time=batch_time,\n",
    "                                data_time=data_time, loss=losses,\n",
    "                                remain=timeSince(start, float(step+1)/len(train_loader)),\n",
    "                                grad_norm=grad_norm,\n",
    "                                #lr=scheduler.get_lr()[0],\n",
    "                                ))\n",
    "    return losses.avg\n",
    "\n",
    "def valid_fn(valid_loader, model, criterion, device):\n",
    "    batch_time = AverageMeter()\n",
    "    data_time = AverageMeter()\n",
    "    losses = AverageMeter()\n",
    "    scores = AverageMeter()\n",
    "    # switch to evaluation mode\n",
    "    model.eval()\n",
    "    trues = []\n",
    "    preds = []\n",
    "    start = end = time.time()\n",
    "    for step, (images, labels) in enumerate(valid_loader):\n",
    "        # measure data loading time\n",
    "        data_time.update(time.time() - end)\n",
    "        images = images.to(device)\n",
    "        labels = labels.to(device)\n",
    "        batch_size = labels.size(0)\n",
    "        # compute loss\n",
    "        with torch.no_grad():\n",
    "            _, _, y_preds = model(images)\n",
    "        loss = criterion(y_preds, labels)\n",
    "        losses.update(loss.item(), batch_size)\n",
    "        # record accuracy\n",
    "        trues.append(labels.to('cpu').numpy())\n",
    "        preds.append(y_preds.sigmoid().to('cpu').numpy())\n",
    "        if CFG.gradient_accumulation_steps > 1:\n",
    "            loss = loss / CFG.gradient_accumulation_steps\n",
    "        # measure elapsed time\n",
    "        batch_time.update(time.time() - end)\n",
    "        end = time.time()\n",
    "        if CFG.device == 'GPU':\n",
    "            if step % CFG.print_freq == 0 or step == (len(valid_loader)-1):\n",
    "                print('EVAL: [{0}/{1}] '\n",
    "                      'Data {data_time.val:.3f} ({data_time.avg:.3f}) '\n",
    "                      'Elapsed {remain:s} '\n",
    "                      'Loss: {loss.val:.4f}({loss.avg:.4f}) '\n",
    "                      .format(\n",
    "                       step, len(valid_loader), batch_time=batch_time,\n",
    "                       data_time=data_time, loss=losses,\n",
    "                       remain=timeSince(start, float(step+1)/len(valid_loader)),\n",
    "                       ))\n",
    "        elif CFG.device == 'TPU':\n",
    "            if step % CFG.print_freq == 0 or step == (len(valid_loader)-1):\n",
    "                xm.master_print('EVAL: [{0}/{1}] '\n",
    "                                'Data {data_time.val:.3f} ({data_time.avg:.3f}) '\n",
    "                                'Elapsed {remain:s} '\n",
    "                                'Loss: {loss.val:.4f}({loss.avg:.4f}) '\n",
    "                                .format(\n",
    "                                step, len(valid_loader), batch_time=batch_time,\n",
    "                                data_time=data_time, loss=losses,\n",
    "                                remain=timeSince(start, float(step+1)/len(valid_loader)),\n",
    "                                ))\n",
    "    trues = np.concatenate(trues)\n",
    "    predictions = np.concatenate(preds)\n",
    "    return losses.avg, predictions, trues"
   ]
  },
  {
   "cell_type": "markdown",
   "metadata": {
    "papermill": {
     "duration": 0.025202,
     "end_time": "2021-03-15T01:37:02.796845",
     "exception": false,
     "start_time": "2021-03-15T01:37:02.771643",
     "status": "completed"
    },
    "tags": []
   },
   "source": [
    "## Train loop"
   ]
  },
  {
   "cell_type": "code",
   "execution_count": 15,
   "metadata": {
    "execution": {
     "iopub.execute_input": "2021-03-15T01:37:02.885263Z",
     "iopub.status.busy": "2021-03-15T01:37:02.866717Z",
     "iopub.status.idle": "2021-03-15T01:37:02.888078Z",
     "shell.execute_reply": "2021-03-15T01:37:02.887586Z"
    },
    "papermill": {
     "duration": 0.065967,
     "end_time": "2021-03-15T01:37:02.888188",
     "exception": false,
     "start_time": "2021-03-15T01:37:02.822221",
     "status": "completed"
    },
    "tags": []
   },
   "outputs": [],
   "source": [
    "# ====================================================\n",
    "# Train loop\n",
    "# ====================================================\n",
    "def train_loop(folds, fold):\n",
    "\n",
    "    if CFG.device == 'GPU':\n",
    "        LOGGER.info(f\"========== fold: {fold} training ==========\")\n",
    "    elif CFG.device == 'TPU':\n",
    "        if CFG.nprocs == 1:\n",
    "            LOGGER.info(f\"========== fold: {fold} training ==========\")\n",
    "        elif CFG.nprocs == 8:\n",
    "            xm.master_print(f\"========== fold: {fold} training ==========\")\n",
    "            \n",
    "    # ====================================================\n",
    "    # loader\n",
    "    # ====================================================\n",
    "    trn_idx = folds[folds['fold'] != fold].index\n",
    "    val_idx = folds[folds['fold'] == fold].index\n",
    "\n",
    "    train_folds = folds.loc[trn_idx].reset_index(drop=True)\n",
    "    valid_folds = folds.loc[val_idx].reset_index(drop=True)\n",
    "    \n",
    "    train_folds = train_folds[train_folds['StudyInstanceUID'].isin(train_annotations['StudyInstanceUID'].unique())].reset_index(drop=True)\n",
    "    \n",
    "    valid_labels = valid_folds[CFG.target_cols].values\n",
    "    \n",
    "    train_dataset = TrainDataset(train_folds, train_annotations, use_annot=True,\n",
    "                                 transform=get_transforms(data='train'))\n",
    "    valid_dataset = TrainDataset(valid_folds, train_annotations, use_annot=False,\n",
    "                                 transform=get_transforms(data='valid'))\n",
    "    \n",
    "    if CFG.device == 'GPU':\n",
    "        train_loader = DataLoader(train_dataset, \n",
    "                                  batch_size=CFG.batch_size, \n",
    "                                  shuffle=True, \n",
    "                                  num_workers=CFG.num_workers, pin_memory=True, drop_last=True)\n",
    "        valid_loader = DataLoader(valid_dataset, \n",
    "                                  batch_size=CFG.batch_size * 2, \n",
    "                                  shuffle=False, \n",
    "                                  num_workers=CFG.num_workers, pin_memory=True, drop_last=False)\n",
    "        \n",
    "    elif CFG.device == 'TPU':\n",
    "        train_sampler = torch.utils.data.distributed.DistributedSampler(train_dataset,\n",
    "                                                                        num_replicas=xm.xrt_world_size(),\n",
    "                                                                        rank=xm.get_ordinal(),\n",
    "                                                                        shuffle=True)\n",
    "        train_loader = torch.utils.data.DataLoader(train_dataset,\n",
    "                                                   batch_size=CFG.batch_size,\n",
    "                                                   sampler=train_sampler,\n",
    "                                                   drop_last=True,\n",
    "                                                   num_workers=CFG.num_workers)\n",
    "        \n",
    "        valid_sampler = torch.utils.data.distributed.DistributedSampler(valid_dataset,\n",
    "                                                                        num_replicas=xm.xrt_world_size(),\n",
    "                                                                        rank=xm.get_ordinal(),\n",
    "                                                                        shuffle=False)\n",
    "        valid_loader = torch.utils.data.DataLoader(valid_dataset,\n",
    "                                                   batch_size=CFG.batch_size * 2,\n",
    "                                                   sampler=valid_sampler,\n",
    "                                                   drop_last=False,\n",
    "                                                   num_workers=CFG.num_workers)\n",
    "        \n",
    "    # ====================================================\n",
    "    # scheduler \n",
    "    # ====================================================\n",
    "    def get_scheduler(optimizer):\n",
    "        if CFG.scheduler=='ReduceLROnPlateau':\n",
    "            scheduler = ReduceLROnPlateau(optimizer, mode='min', factor=CFG.factor, patience=CFG.patience, verbose=True, eps=CFG.eps)\n",
    "        elif CFG.scheduler=='CosineAnnealingLR':\n",
    "            scheduler = CosineAnnealingLR(optimizer, T_max=CFG.T_max, eta_min=CFG.min_lr, last_epoch=-1)\n",
    "        elif CFG.scheduler=='CosineAnnealingWarmRestarts':\n",
    "            scheduler = CosineAnnealingWarmRestarts(optimizer, T_0=CFG.T_0, T_mult=1, eta_min=CFG.min_lr, last_epoch=-1)\n",
    "        return scheduler\n",
    "    \n",
    "    # ====================================================\n",
    "    # model & optimizer\n",
    "    # ====================================================\n",
    "    if CFG.device == 'TPU':\n",
    "        device = xm.xla_device()\n",
    "    elif CFG.device == 'GPU':\n",
    "        device = torch.device('cuda' if torch.cuda.is_available() else 'cpu')\n",
    "        \n",
    "    teacher_model = CustomResNet200D_WLF(CFG.model_name, pretrained=False)\n",
    "    teacher_model.to(device)\n",
    "    state = torch.load(CFG.teacher)\n",
    "    teacher_model.load_state_dict(state['model'])\n",
    "    for param in teacher_model.parameters():\n",
    "        param.requires_grad = False\n",
    "    teacher_model.eval()\n",
    "#     teacher_model.to(device)\n",
    "    \n",
    "    model = CustomResNet200D_WLF(CFG.model_name, pretrained=True)\n",
    "    model.to(device)\n",
    "#     state = torch.load(CFG.student)\n",
    "#     model.load_state_dict(state['model'])\n",
    "\n",
    "    optimizer = Adam(model.parameters(), lr=CFG.lr, weight_decay=CFG.weight_decay, amsgrad=False)\n",
    "    scheduler = get_scheduler(optimizer)\n",
    "    \n",
    "    # ====================================================\n",
    "    # loop\n",
    "    # ====================================================\n",
    "    train_criterion = CustomLoss(weights=CFG.weights)\n",
    "    valid_criterion = nn.BCEWithLogitsLoss()\n",
    "\n",
    "    best_score = 0.\n",
    "    best_loss = np.inf\n",
    "    \n",
    "    for epoch in range(CFG.epochs):\n",
    "        \n",
    "        start_time = time.time()\n",
    "        \n",
    "        # train\n",
    "        if CFG.device == 'TPU':\n",
    "            if CFG.nprocs == 1:\n",
    "                avg_loss = train_fn(train_loader, teacher_model, model, train_criterion, optimizer, epoch, scheduler, device)\n",
    "            elif CFG.nprocs == 8:\n",
    "                para_train_loader = pl.ParallelLoader(train_loader, [device])\n",
    "                avg_loss = train_fn(para_train_loader.per_device_loader(device), teacher_model, model, train_criterion, optimizer, epoch, scheduler, device)\n",
    "        elif CFG.device == 'GPU':\n",
    "            avg_loss = train_fn(train_loader, teacher_model, model, train_criterion, optimizer, epoch, scheduler, device)\n",
    "        \n",
    "        # eval\n",
    "        if CFG.device == 'TPU':\n",
    "            if CFG.nprocs == 1:\n",
    "                avg_val_loss, preds, _ = valid_fn(valid_loader, model, valid_criterion, device)\n",
    "            elif CFG.nprocs == 8:\n",
    "                para_valid_loader = pl.ParallelLoader(valid_loader, [device])\n",
    "                avg_val_loss, preds, valid_labels = valid_fn(para_valid_loader.per_device_loader(device), model, valid_criterion, device)\n",
    "                preds = idist.all_gather(torch.tensor(preds)).to('cpu').numpy()\n",
    "                valid_labels = idist.all_gather(torch.tensor(valid_labels)).to('cpu').numpy()\n",
    "        elif CFG.device == 'GPU':\n",
    "            avg_val_loss, preds, _ = valid_fn(valid_loader, model, valid_criterion, device)\n",
    "            \n",
    "        if isinstance(scheduler, ReduceLROnPlateau):\n",
    "            scheduler.step(avg_val_loss)\n",
    "        elif isinstance(scheduler, CosineAnnealingLR):\n",
    "            scheduler.step()\n",
    "        elif isinstance(scheduler, CosineAnnealingWarmRestarts):\n",
    "            scheduler.step()\n",
    "            \n",
    "        # scoring\n",
    "        score, scores = get_score(valid_labels, preds)\n",
    "\n",
    "        elapsed = time.time() - start_time\n",
    "        \n",
    "        if CFG.device == 'GPU':\n",
    "            LOGGER.info(f'Epoch {epoch+1} - avg_train_loss: {avg_loss:.4f}  avg_val_loss: {avg_val_loss:.4f}  time: {elapsed:.0f}s')\n",
    "            LOGGER.info(f'Epoch {epoch+1} - Score: {score:.4f}  Scores: {np.round(scores, decimals=4)}')\n",
    "        elif CFG.device == 'TPU':\n",
    "            if CFG.nprocs == 1:\n",
    "                LOGGER.info(f'Epoch {epoch+1} - avg_train_loss: {avg_loss:.4f}  avg_val_loss: {avg_val_loss:.4f}  time: {elapsed:.0f}s')\n",
    "                LOGGER.info(f'Epoch {epoch+1} - Score: {score:.4f}  Scores: {np.round(scores, decimals=4)}')\n",
    "            elif CFG.nprocs == 8:\n",
    "                xm.master_print(f'Epoch {epoch+1} - avg_train_loss: {avg_loss:.4f}  avg_val_loss: {avg_val_loss:.4f}  time: {elapsed:.0f}s')\n",
    "                xm.master_print(f'Epoch {epoch+1} - Score: {score:.4f}  Scores: {np.round(scores, decimals=4)}')\n",
    "                \n",
    "        if score > best_score:\n",
    "            best_score = score\n",
    "            if CFG.device == 'GPU':\n",
    "                LOGGER.info(f'Epoch {epoch+1} - Save Best Score: {best_score:.4f} Model')\n",
    "                torch.save({'model': model.state_dict(), \n",
    "                            'preds': preds},\n",
    "                           OUTPUT_DIR+f'{CFG.model_name}_fold{fold}_best_score.pth')\n",
    "            elif CFG.device == 'TPU':\n",
    "                if CFG.nprocs == 1:\n",
    "                    LOGGER.info(f'Epoch {epoch+1} - Save Best Score: {best_score:.4f} Model')\n",
    "                elif CFG.nprocs == 8:\n",
    "                    xm.master_print(f'Epoch {epoch+1} - Save Best Score: {best_score:.4f} Model')\n",
    "                xm.save({'model': model, \n",
    "                         'preds': preds}, \n",
    "                        OUTPUT_DIR+f'{CFG.model_name}_fold{fold}_best_score.pth')\n",
    "                \n",
    "        if avg_val_loss < best_loss:\n",
    "            best_loss = avg_val_loss\n",
    "            if CFG.device == 'GPU':\n",
    "                LOGGER.info(f'Epoch {epoch+1} - Save Best Loss: {best_loss:.4f} Model')\n",
    "                torch.save({'model': model.state_dict(), \n",
    "                            'preds': preds},\n",
    "                           OUTPUT_DIR+f'{CFG.model_name}_fold{fold}_best_loss.pth')\n",
    "            elif CFG.device == 'TPU':\n",
    "                if CFG.nprocs == 1:\n",
    "                    LOGGER.info(f'Epoch {epoch+1} - Save Best Loss: {best_loss:.4f} Model')\n",
    "                elif CFG.nprocs == 8:\n",
    "                    xm.master_print(f'Epoch {epoch+1} - Save Best Loss: {best_loss:.4f} Model')\n",
    "                xm.save({'model': model, \n",
    "                         'preds': preds}, \n",
    "                        OUTPUT_DIR+f'{CFG.model_name}_fold{fold}_best_loss.pth')\n",
    "                \n",
    "#         # inference用に全て保存しておく\n",
    "#         if CFG.device == 'TPU':\n",
    "#             xm.save({'model': model.state_dict()}, OUTPUT_DIR+f'{CFG.model_name}_fold{fold}_epoch{epoch+1}.pth')\n",
    "#         elif CFG.device == 'GPU':\n",
    "#             torch.save({'model': model.state_dict()}, OUTPUT_DIR+f'{CFG.model_name}_fold{fold}_epoch{epoch+1}.pth')\n",
    "                \n",
    "        if CFG.nprocs != 8:\n",
    "            check_point = torch.load(OUTPUT_DIR+f'{CFG.model_name}_fold{fold}_best_score.pth')\n",
    "            for c in [f'pred_{c}' for c in CFG.target_cols]:\n",
    "                valid_folds[c] = np.nan\n",
    "            valid_folds[[f'pred_{c}' for c in CFG.target_cols]] = check_point['preds']\n",
    "\n",
    "    return valid_folds"
   ]
  },
  {
   "cell_type": "code",
   "execution_count": 16,
   "metadata": {
    "execution": {
     "iopub.execute_input": "2021-03-15T01:37:02.949887Z",
     "iopub.status.busy": "2021-03-15T01:37:02.948031Z",
     "iopub.status.idle": "2021-03-15T01:37:02.950509Z",
     "shell.execute_reply": "2021-03-15T01:37:02.950952Z"
    },
    "papermill": {
     "duration": 0.036555,
     "end_time": "2021-03-15T01:37:02.951103",
     "exception": false,
     "start_time": "2021-03-15T01:37:02.914548",
     "status": "completed"
    },
    "tags": []
   },
   "outputs": [],
   "source": [
    "# ====================================================\n",
    "# main\n",
    "# ====================================================\n",
    "def main():\n",
    "\n",
    "    \"\"\"\n",
    "    Prepare: 1.train  2.folds\n",
    "    \"\"\"\n",
    "\n",
    "    def get_result(result_df):\n",
    "        preds = result_df[[f'pred_{c}' for c in CFG.target_cols]].values\n",
    "        labels = result_df[CFG.target_cols].values\n",
    "        score, scores = get_score(labels, preds)\n",
    "        LOGGER.info(f'Score: {score:<.4f}  Scores: {np.round(scores, decimals=4)}')\n",
    "        \n",
    "    if CFG.train:\n",
    "        # train \n",
    "        oof_df = pd.DataFrame()\n",
    "        for fold in range(CFG.n_fold):\n",
    "            if fold in CFG.trn_fold:\n",
    "                _oof_df = train_loop(folds, fold)\n",
    "                oof_df = pd.concat([oof_df, _oof_df])\n",
    "                if CFG.nprocs != 8:\n",
    "                    LOGGER.info(f\"========== fold: {fold} result ==========\")\n",
    "                    get_result(_oof_df)\n",
    "                    \n",
    "        if CFG.nprocs != 8:\n",
    "            # CV result\n",
    "            LOGGER.info(f\"========== CV ==========\")\n",
    "            get_result(oof_df)\n",
    "            # save result\n",
    "            oof_df.to_csv(OUTPUT_DIR+'oof_df.csv', index=False)"
   ]
  },
  {
   "cell_type": "code",
   "execution_count": 17,
   "metadata": {
    "execution": {
     "iopub.execute_input": "2021-03-15T01:37:03.007382Z",
     "iopub.status.busy": "2021-03-15T01:37:03.006749Z",
     "iopub.status.idle": "2021-03-15T04:20:50.574460Z",
     "shell.execute_reply": "2021-03-15T04:20:50.573827Z"
    },
    "papermill": {
     "duration": 9827.597454,
     "end_time": "2021-03-15T04:20:50.574608",
     "exception": false,
     "start_time": "2021-03-15T01:37:02.977154",
     "status": "completed"
    },
    "tags": []
   },
   "outputs": [
    {
     "name": "stderr",
     "output_type": "stream",
     "text": [
      "========== fold: 0 training ==========\n"
     ]
    },
    {
     "name": "stdout",
     "output_type": "stream",
     "text": [
      "load resnet200d_320 pretrained model\n",
      "Epoch: [1][0/904] Data 2.239 (2.239) Elapsed 0m 5s (remain 88m 28s) Loss: 2.2072(2.2072) Grad: 421377.5312  \n",
      "Epoch: [1][100/904] Data 0.000 (0.022) Elapsed 3m 5s (remain 24m 36s) Loss: 1.0378(1.5425) Grad: 174107.9375  \n",
      "Epoch: [1][200/904] Data 0.000 (0.011) Elapsed 6m 4s (remain 21m 16s) Loss: 0.5826(1.1870) Grad: 102392.4688  \n",
      "Epoch: [1][300/904] Data 0.000 (0.008) Elapsed 9m 4s (remain 18m 10s) Loss: 0.4600(0.9822) Grad: 109697.8828  \n",
      "Epoch: [1][400/904] Data 0.000 (0.006) Elapsed 12m 3s (remain 15m 7s) Loss: 0.3380(0.8654) Grad: 96616.5391  \n",
      "Epoch: [1][500/904] Data 0.000 (0.005) Elapsed 15m 3s (remain 12m 6s) Loss: 0.3176(0.7847) Grad: 107627.8906  \n",
      "Epoch: [1][600/904] Data 0.000 (0.004) Elapsed 18m 2s (remain 9m 5s) Loss: 0.3630(0.7259) Grad: 139942.5156  \n",
      "Epoch: [1][700/904] Data 0.000 (0.003) Elapsed 21m 2s (remain 6m 5s) Loss: 0.5389(0.6848) Grad: 144010.9844  \n",
      "Epoch: [1][800/904] Data 0.000 (0.003) Elapsed 24m 1s (remain 3m 5s) Loss: 0.3466(0.6504) Grad: 107222.6016  \n",
      "Epoch: [1][900/904] Data 0.000 (0.003) Elapsed 27m 0s (remain 0m 5s) Loss: 0.3398(0.6239) Grad: 109722.9922  \n",
      "Epoch: [1][903/904] Data 0.000 (0.003) Elapsed 27m 6s (remain 0m 0s) Loss: 0.3142(0.6229) Grad: 100677.7578  \n",
      "EVAL: [0/376] Data 3.797 (3.797) Elapsed 0m 4s (remain 28m 53s) Loss: 0.1145(0.1145) \n",
      "EVAL: [100/376] Data 0.154 (0.130) Elapsed 1m 35s (remain 4m 20s) Loss: 0.1934(0.1462) \n",
      "EVAL: [200/376] Data 0.249 (0.100) Elapsed 3m 4s (remain 2m 40s) Loss: 0.1770(0.1495) \n",
      "EVAL: [300/376] Data 0.489 (0.097) Elapsed 4m 34s (remain 1m 8s) Loss: 0.1002(0.1509) \n"
     ]
    },
    {
     "name": "stderr",
     "output_type": "stream",
     "text": [
      "Epoch 1 - avg_train_loss: 0.6229  avg_val_loss: 0.1496  time: 1968s\n",
      "Epoch 1 - Score: 0.9325  Scores: [0.8908 0.9598 0.9932 0.8914 0.9129 0.9809 0.9863 0.9048 0.8435 0.8991\n",
      " 0.9954]\n",
      "Epoch 1 - Save Best Score: 0.9325 Model\n"
     ]
    },
    {
     "name": "stdout",
     "output_type": "stream",
     "text": [
      "EVAL: [375/376] Data 0.000 (0.093) Elapsed 5m 41s (remain 0m 0s) Loss: 0.0805(0.1496) \n"
     ]
    },
    {
     "name": "stderr",
     "output_type": "stream",
     "text": [
      "Epoch 1 - Save Best Loss: 0.1496 Model\n"
     ]
    },
    {
     "name": "stdout",
     "output_type": "stream",
     "text": [
      "Epoch: [2][0/904] Data 2.545 (2.545) Elapsed 0m 4s (remain 72m 10s) Loss: 0.3317(0.3317) Grad: 99651.3984  \n",
      "Epoch: [2][100/904] Data 0.000 (0.025) Elapsed 3m 4s (remain 24m 24s) Loss: 0.3751(0.4016) Grad: 113338.3359  \n",
      "Epoch: [2][200/904] Data 0.000 (0.013) Elapsed 6m 3s (remain 21m 11s) Loss: 0.4170(0.3935) Grad: 106393.2891  \n",
      "Epoch: [2][300/904] Data 0.000 (0.009) Elapsed 9m 3s (remain 18m 7s) Loss: 0.2426(0.3897) Grad: 79914.5312  \n",
      "Epoch: [2][400/904] Data 0.000 (0.007) Elapsed 12m 3s (remain 15m 6s) Loss: 0.4362(0.3860) Grad: 121545.3047  \n",
      "Epoch: [2][500/904] Data 0.000 (0.005) Elapsed 15m 2s (remain 12m 5s) Loss: 0.4392(0.3850) Grad: 115892.3516  \n",
      "Epoch: [2][600/904] Data 0.000 (0.004) Elapsed 18m 1s (remain 9m 5s) Loss: 0.3586(0.3795) Grad: 112460.1094  \n",
      "Epoch: [2][700/904] Data 0.000 (0.004) Elapsed 21m 1s (remain 6m 5s) Loss: 0.6065(0.3797) Grad: 123333.8047  \n",
      "Epoch: [2][800/904] Data 0.000 (0.003) Elapsed 24m 0s (remain 3m 5s) Loss: 0.3959(0.3765) Grad: 101272.9453  \n",
      "Epoch: [2][900/904] Data 0.000 (0.003) Elapsed 26m 59s (remain 0m 5s) Loss: 0.4100(0.3738) Grad: 101906.6328  \n",
      "Epoch: [2][903/904] Data 0.000 (0.003) Elapsed 27m 5s (remain 0m 0s) Loss: 0.5635(0.3739) Grad: 117782.6250  \n",
      "EVAL: [0/376] Data 2.830 (2.830) Elapsed 0m 3s (remain 22m 51s) Loss: 0.0861(0.0861) \n",
      "EVAL: [100/376] Data 0.000 (0.100) Elapsed 1m 32s (remain 4m 11s) Loss: 0.1712(0.1233) \n",
      "EVAL: [200/376] Data 0.000 (0.081) Elapsed 3m 0s (remain 2m 37s) Loss: 0.1765(0.1260) \n",
      "EVAL: [300/376] Data 0.000 (0.073) Elapsed 4m 27s (remain 1m 6s) Loss: 0.0581(0.1280) \n"
     ]
    },
    {
     "name": "stderr",
     "output_type": "stream",
     "text": [
      "Epoch 2 - avg_train_loss: 0.3739  avg_val_loss: 0.1267  time: 1958s\n",
      "Epoch 2 - Score: 0.9507  Scores: [0.9709 0.964  0.9935 0.8968 0.9574 0.9823 0.9859 0.9177 0.8687 0.9217\n",
      " 0.9987]\n",
      "Epoch 2 - Save Best Score: 0.9507 Model\n"
     ]
    },
    {
     "name": "stdout",
     "output_type": "stream",
     "text": [
      "EVAL: [375/376] Data 0.000 (0.070) Elapsed 5m 32s (remain 0m 0s) Loss: 0.0466(0.1267) \n"
     ]
    },
    {
     "name": "stderr",
     "output_type": "stream",
     "text": [
      "Epoch 2 - Save Best Loss: 0.1267 Model\n"
     ]
    },
    {
     "name": "stdout",
     "output_type": "stream",
     "text": [
      "Epoch: [3][0/904] Data 2.668 (2.668) Elapsed 0m 4s (remain 73m 58s) Loss: 0.4256(0.4256) Grad: 110579.7109  \n",
      "Epoch: [3][100/904] Data 0.000 (0.027) Elapsed 3m 4s (remain 24m 26s) Loss: 0.4361(0.3505) Grad: 107477.0469  \n",
      "Epoch: [3][200/904] Data 0.000 (0.013) Elapsed 6m 3s (remain 21m 12s) Loss: 0.1737(0.3482) Grad: 61550.9531  \n",
      "Epoch: [3][300/904] Data 0.000 (0.009) Elapsed 9m 2s (remain 18m 7s) Loss: 0.5004(0.3524) Grad: 104937.2500  \n",
      "Epoch: [3][400/904] Data 0.000 (0.007) Elapsed 12m 2s (remain 15m 5s) Loss: 0.2010(0.3495) Grad: 62578.6914  \n",
      "Epoch: [3][500/904] Data 0.000 (0.005) Elapsed 15m 1s (remain 12m 5s) Loss: 0.2757(0.3476) Grad: 104364.7109  \n",
      "Epoch: [3][600/904] Data 0.000 (0.005) Elapsed 18m 0s (remain 9m 4s) Loss: 0.3412(0.3460) Grad: 68672.7344  \n",
      "Epoch: [3][700/904] Data 0.000 (0.004) Elapsed 21m 0s (remain 6m 4s) Loss: 0.3698(0.3496) Grad: 84105.1562  \n",
      "Epoch: [3][800/904] Data 0.000 (0.003) Elapsed 23m 59s (remain 3m 5s) Loss: 0.4813(0.3485) Grad: 133192.6406  \n",
      "Epoch: [3][900/904] Data 0.000 (0.003) Elapsed 26m 58s (remain 0m 5s) Loss: 0.2748(0.3458) Grad: 114501.8516  \n",
      "Epoch: [3][903/904] Data 0.000 (0.003) Elapsed 27m 4s (remain 0m 0s) Loss: 0.3060(0.3457) Grad: 86548.2109  \n",
      "EVAL: [0/376] Data 3.241 (3.241) Elapsed 0m 4s (remain 25m 26s) Loss: 0.0877(0.0877) \n",
      "EVAL: [100/376] Data 0.000 (0.105) Elapsed 1m 33s (remain 4m 13s) Loss: 0.1772(0.1226) \n",
      "EVAL: [200/376] Data 0.000 (0.079) Elapsed 3m 0s (remain 2m 36s) Loss: 0.1522(0.1259) \n",
      "EVAL: [300/376] Data 0.000 (0.071) Elapsed 4m 27s (remain 1m 6s) Loss: 0.0667(0.1274) \n"
     ]
    },
    {
     "name": "stderr",
     "output_type": "stream",
     "text": [
      "Epoch 3 - avg_train_loss: 0.3457  avg_val_loss: 0.1264  time: 1957s\n",
      "Epoch 3 - Score: 0.9437  Scores: [0.9317 0.9661 0.9942 0.855  0.946  0.9838 0.9879 0.9265 0.8694 0.9212\n",
      " 0.9992]\n",
      "Epoch 3 - Save Best Loss: 0.1264 Model\n"
     ]
    },
    {
     "name": "stdout",
     "output_type": "stream",
     "text": [
      "EVAL: [375/376] Data 0.000 (0.069) Elapsed 5m 32s (remain 0m 0s) Loss: 0.0578(0.1264) \n",
      "Epoch: [4][0/904] Data 2.311 (2.311) Elapsed 0m 4s (remain 67m 56s) Loss: 0.3286(0.3286) Grad: 105204.3594  \n",
      "Epoch: [4][100/904] Data 0.000 (0.023) Elapsed 3m 4s (remain 24m 24s) Loss: 0.4743(0.3468) Grad: 138414.1250  \n",
      "Epoch: [4][200/904] Data 0.000 (0.012) Elapsed 6m 3s (remain 21m 12s) Loss: 0.2356(0.3337) Grad: 91153.8672  \n",
      "Epoch: [4][300/904] Data 0.000 (0.008) Elapsed 9m 2s (remain 18m 7s) Loss: 0.1893(0.3316) Grad: 55259.9062  \n",
      "Epoch: [4][400/904] Data 0.000 (0.006) Elapsed 12m 2s (remain 15m 6s) Loss: 0.2126(0.3344) Grad: 82444.3359  \n",
      "Epoch: [4][500/904] Data 0.000 (0.005) Elapsed 15m 1s (remain 12m 5s) Loss: 0.3569(0.3333) Grad: 118588.0234  \n",
      "Epoch: [4][600/904] Data 0.000 (0.004) Elapsed 18m 1s (remain 9m 5s) Loss: 0.2559(0.3311) Grad: 93726.2500  \n",
      "Epoch: [4][700/904] Data 0.000 (0.003) Elapsed 21m 0s (remain 6m 4s) Loss: 0.3222(0.3290) Grad: 114711.5938  \n",
      "Epoch: [4][800/904] Data 0.000 (0.003) Elapsed 23m 59s (remain 3m 5s) Loss: 0.3729(0.3305) Grad: 105909.5234  \n",
      "Epoch: [4][900/904] Data 0.000 (0.003) Elapsed 26m 58s (remain 0m 5s) Loss: 0.2767(0.3309) Grad: 101483.1328  \n",
      "Epoch: [4][903/904] Data 0.000 (0.003) Elapsed 27m 4s (remain 0m 0s) Loss: 0.4815(0.3310) Grad: 129581.1484  \n",
      "EVAL: [0/376] Data 3.483 (3.483) Elapsed 0m 4s (remain 26m 55s) Loss: 0.0727(0.0727) \n",
      "EVAL: [100/376] Data 0.000 (0.098) Elapsed 1m 32s (remain 4m 11s) Loss: 0.1684(0.1178) \n",
      "EVAL: [200/376] Data 0.001 (0.075) Elapsed 2m 59s (remain 2m 36s) Loss: 0.1774(0.1213) \n",
      "EVAL: [300/376] Data 0.000 (0.070) Elapsed 4m 27s (remain 1m 6s) Loss: 0.0520(0.1228) \n"
     ]
    },
    {
     "name": "stderr",
     "output_type": "stream",
     "text": [
      "Epoch 4 - avg_train_loss: 0.3310  avg_val_loss: 0.1217  time: 1957s\n",
      "Epoch 4 - Score: 0.9559  Scores: [0.979  0.9704 0.9938 0.9177 0.9603 0.9842 0.9876 0.926  0.8758 0.9214\n",
      " 0.9992]\n",
      "Epoch 4 - Save Best Score: 0.9559 Model\n"
     ]
    },
    {
     "name": "stdout",
     "output_type": "stream",
     "text": [
      "EVAL: [375/376] Data 0.000 (0.070) Elapsed 5m 32s (remain 0m 0s) Loss: 0.0657(0.1217) \n"
     ]
    },
    {
     "name": "stderr",
     "output_type": "stream",
     "text": [
      "Epoch 4 - Save Best Loss: 0.1217 Model\n"
     ]
    },
    {
     "name": "stdout",
     "output_type": "stream",
     "text": [
      "Epoch: [5][0/904] Data 2.199 (2.199) Elapsed 0m 4s (remain 69m 24s) Loss: 0.4470(0.4470) Grad: 133675.5625  \n",
      "Epoch: [5][100/904] Data 0.000 (0.022) Elapsed 3m 4s (remain 24m 25s) Loss: 0.3209(0.3228) Grad: 108451.8047  \n",
      "Epoch: [5][200/904] Data 0.000 (0.011) Elapsed 6m 3s (remain 21m 12s) Loss: 0.3467(0.3191) Grad: 94052.6953  \n",
      "Epoch: [5][300/904] Data 0.000 (0.007) Elapsed 9m 3s (remain 18m 8s) Loss: 0.3250(0.3154) Grad: 77260.8672  \n",
      "Epoch: [5][400/904] Data 0.000 (0.006) Elapsed 12m 2s (remain 15m 6s) Loss: 0.2093(0.3138) Grad: 86337.7422  \n",
      "Epoch: [5][500/904] Data 0.000 (0.005) Elapsed 15m 2s (remain 12m 5s) Loss: 0.3392(0.3168) Grad: 112941.5312  \n",
      "Epoch: [5][600/904] Data 0.000 (0.004) Elapsed 18m 1s (remain 9m 5s) Loss: 0.3299(0.3199) Grad: 118924.2109  \n",
      "Epoch: [5][700/904] Data 0.000 (0.003) Elapsed 21m 0s (remain 6m 5s) Loss: 0.2821(0.3204) Grad: 89045.7266  \n",
      "Epoch: [5][800/904] Data 0.000 (0.003) Elapsed 24m 0s (remain 3m 5s) Loss: 0.2667(0.3240) Grad: 92945.0859  \n",
      "Epoch: [5][900/904] Data 0.000 (0.003) Elapsed 26m 59s (remain 0m 5s) Loss: 0.2323(0.3231) Grad: 115830.8594  \n",
      "Epoch: [5][903/904] Data 0.000 (0.003) Elapsed 27m 4s (remain 0m 0s) Loss: 0.3835(0.3231) Grad: 144306.5469  \n",
      "EVAL: [0/376] Data 3.772 (3.772) Elapsed 0m 4s (remain 28m 41s) Loss: 0.0768(0.0768) \n",
      "EVAL: [100/376] Data 0.000 (0.090) Elapsed 1m 31s (remain 4m 10s) Loss: 0.1738(0.1171) \n",
      "EVAL: [200/376] Data 0.000 (0.074) Elapsed 2m 59s (remain 2m 36s) Loss: 0.1700(0.1207) \n",
      "EVAL: [300/376] Data 0.600 (0.069) Elapsed 4m 27s (remain 1m 6s) Loss: 0.0517(0.1224) \n"
     ]
    },
    {
     "name": "stderr",
     "output_type": "stream",
     "text": [
      "Epoch 5 - avg_train_loss: 0.3231  avg_val_loss: 0.1213  time: 1957s\n",
      "Epoch 5 - Score: 0.9459  Scores: [0.9079 0.9672 0.994  0.8797 0.9521 0.9837 0.9876 0.9278 0.8794 0.9261\n",
      " 0.9995]\n",
      "Epoch 5 - Save Best Loss: 0.1213 Model\n"
     ]
    },
    {
     "name": "stdout",
     "output_type": "stream",
     "text": [
      "EVAL: [375/376] Data 0.000 (0.067) Elapsed 5m 31s (remain 0m 0s) Loss: 0.0621(0.1213) \n"
     ]
    },
    {
     "name": "stderr",
     "output_type": "stream",
     "text": [
      "========== fold: 0 result ==========\n",
      "Score: 0.9559  Scores: [0.979  0.9704 0.9938 0.9177 0.9603 0.9842 0.9876 0.926  0.8758 0.9214\n",
      " 0.9992]\n",
      "========== CV ==========\n",
      "Score: 0.9559  Scores: [0.979  0.9704 0.9938 0.9177 0.9603 0.9842 0.9876 0.926  0.8758 0.9214\n",
      " 0.9992]\n"
     ]
    }
   ],
   "source": [
    "if __name__ == '__main__':\n",
    "    if CFG.device == 'TPU':\n",
    "        def _mp_fn(rank, flags):\n",
    "            torch.set_default_tensor_type('torch.FloatTensor')\n",
    "            a = main()\n",
    "        FLAGS = {}\n",
    "        xmp.spawn(_mp_fn, args=(FLAGS,), nprocs=CFG.nprocs, start_method='fork')\n",
    "    elif CFG.device == 'GPU':\n",
    "        main()"
   ]
  },
  {
   "cell_type": "code",
   "execution_count": null,
   "metadata": {
    "papermill": {
     "duration": 0.052035,
     "end_time": "2021-03-15T04:20:50.677905",
     "exception": false,
     "start_time": "2021-03-15T04:20:50.625870",
     "status": "completed"
    },
    "tags": []
   },
   "outputs": [],
   "source": []
  },
  {
   "cell_type": "code",
   "execution_count": null,
   "metadata": {
    "papermill": {
     "duration": 0.050769,
     "end_time": "2021-03-15T04:20:50.779869",
     "exception": false,
     "start_time": "2021-03-15T04:20:50.729100",
     "status": "completed"
    },
    "tags": []
   },
   "outputs": [],
   "source": []
  },
  {
   "cell_type": "code",
   "execution_count": null,
   "metadata": {
    "papermill": {
     "duration": 0.051217,
     "end_time": "2021-03-15T04:20:50.881748",
     "exception": false,
     "start_time": "2021-03-15T04:20:50.830531",
     "status": "completed"
    },
    "tags": []
   },
   "outputs": [],
   "source": []
  }
 ],
 "metadata": {
  "kernelspec": {
   "display_name": "Python 3",
   "language": "python",
   "name": "python3"
  },
  "language_info": {
   "codemirror_mode": {
    "name": "ipython",
    "version": 3
   },
   "file_extension": ".py",
   "mimetype": "text/x-python",
   "name": "python",
   "nbconvert_exporter": "python",
   "pygments_lexer": "ipython3",
   "version": "3.7.9"
  },
  "papermill": {
   "default_parameters": {},
   "duration": 9843.451206,
   "end_time": "2021-03-15T04:20:53.250580",
   "environment_variables": {},
   "exception": null,
   "input_path": "__notebook__.ipynb",
   "output_path": "__notebook__.ipynb",
   "parameters": {},
   "start_time": "2021-03-15T01:36:49.799374",
   "version": "2.2.2"
  }
 },
 "nbformat": 4,
 "nbformat_minor": 4
}
