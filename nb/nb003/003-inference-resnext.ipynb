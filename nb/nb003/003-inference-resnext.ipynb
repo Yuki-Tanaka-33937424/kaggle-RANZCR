{
 "cells": [
  {
   "cell_type": "code",
   "execution_count": 1,
   "metadata": {
    "_cell_guid": "b1076dfc-b9ad-4769-8c92-a6c4dae69d19",
    "_uuid": "8f2839f25d086af736a60e9eeb907d3b93b6e0e5",
    "execution": {
     "iopub.execute_input": "2021-02-26T10:16:19.765309Z",
     "iopub.status.busy": "2021-02-26T10:16:19.764357Z",
     "iopub.status.idle": "2021-02-26T10:16:19.767493Z",
     "shell.execute_reply": "2021-02-26T10:16:19.766928Z"
    },
    "papermill": {
     "duration": 0.025545,
     "end_time": "2021-02-26T10:16:19.767703",
     "exception": false,
     "start_time": "2021-02-26T10:16:19.742158",
     "status": "completed"
    },
    "tags": []
   },
   "outputs": [],
   "source": [
    "# ================================================\n",
    "# Directory settings\n",
    "# ================================================\n",
    "import os\n",
    "import pandas as pd\n",
    "\n",
    "MODEL_DIR = '../input/002-training-resnext-data/'\n",
    "OUTPUT_DIR = './'\n",
    "if not os.path.exists(OUTPUT_DIR):\n",
    "    os.makedirs(OUTPUT_DIR)\n",
    "\n",
    "TEST_PATH = '../input/ranzcr-clip-catheter-line-classification/test'"
   ]
  },
  {
   "cell_type": "markdown",
   "metadata": {
    "papermill": {
     "duration": 0.014433,
     "end_time": "2021-02-26T10:16:19.797517",
     "exception": false,
     "start_time": "2021-02-26T10:16:19.783084",
     "status": "completed"
    },
    "tags": []
   },
   "source": [
    "## CFG"
   ]
  },
  {
   "cell_type": "code",
   "execution_count": 2,
   "metadata": {
    "execution": {
     "iopub.execute_input": "2021-02-26T10:16:19.835509Z",
     "iopub.status.busy": "2021-02-26T10:16:19.834941Z",
     "iopub.status.idle": "2021-02-26T10:16:19.855970Z",
     "shell.execute_reply": "2021-02-26T10:16:19.855161Z"
    },
    "papermill": {
     "duration": 0.043654,
     "end_time": "2021-02-26T10:16:19.856152",
     "exception": false,
     "start_time": "2021-02-26T10:16:19.812498",
     "status": "completed"
    },
    "tags": []
   },
   "outputs": [],
   "source": [
    "# =====================================================\n",
    "# CFG\n",
    "# =====================================================\n",
    "class CFG:\n",
    "    debug=False\n",
    "    num_workers=4\n",
    "    model_name='resnext50_32x4d'\n",
    "    size=512\n",
    "    batch_size=64\n",
    "    seed=42\n",
    "    target_size=11\n",
    "    target_cols=['ETT - Abnormal', 'ETT - Borderline', 'ETT - Normal',\n",
    "                 'NGT - Abnormal', 'NGT - Borderline', 'NGT - Incompletely Imaged', 'NGT - Normal', \n",
    "                 'CVC - Abnormal', 'CVC - Borderline', 'CVC - Normal',\n",
    "                 'Swan Ganz Catheter Present']\n",
    "    n_fold=4\n",
    "    trn_fold=[0]\n",
    "    epochs=[4, 5]\n",
    "    tta=5\n",
    "    submit = (len(pd.read_csv('../input/ranzcr-clip-catheter-line-classification/sample_submission.csv')) != 3582)"
   ]
  },
  {
   "cell_type": "markdown",
   "metadata": {
    "papermill": {
     "duration": 0.014796,
     "end_time": "2021-02-26T10:16:19.886157",
     "exception": false,
     "start_time": "2021-02-26T10:16:19.871361",
     "status": "completed"
    },
    "tags": []
   },
   "source": [
    "## Library"
   ]
  },
  {
   "cell_type": "code",
   "execution_count": 3,
   "metadata": {
    "execution": {
     "iopub.execute_input": "2021-02-26T10:16:19.927239Z",
     "iopub.status.busy": "2021-02-26T10:16:19.926477Z",
     "iopub.status.idle": "2021-02-26T10:16:24.810620Z",
     "shell.execute_reply": "2021-02-26T10:16:24.811167Z"
    },
    "papermill": {
     "duration": 4.910274,
     "end_time": "2021-02-26T10:16:24.811354",
     "exception": false,
     "start_time": "2021-02-26T10:16:19.901080",
     "status": "completed"
    },
    "tags": []
   },
   "outputs": [],
   "source": [
    "# ===================================================\n",
    "# Library\n",
    "# ===================================================\n",
    "import sys\n",
    "sys.path.append('../input/pytorch-image-models/')\n",
    "\n",
    "import os\n",
    "import math\n",
    "import time\n",
    "import random\n",
    "import shutil\n",
    "from pathlib import Path\n",
    "from contextlib import contextmanager\n",
    "from collections import defaultdict, Counter\n",
    "\n",
    "import scipy as sp\n",
    "import numpy as np\n",
    "import pandas as pd\n",
    "\n",
    "from sklearn import preprocessing\n",
    "from sklearn.metrics import roc_auc_score\n",
    "from sklearn.model_selection import StratifiedKFold, GroupKFold, KFold\n",
    "\n",
    "from tqdm.auto import tqdm\n",
    "from functools import partial\n",
    "\n",
    "import cv2\n",
    "from PIL import Image\n",
    "\n",
    "from matplotlib import pyplot as plt\n",
    "\n",
    "import torch\n",
    "import torch.nn as nn\n",
    "import torch.nn.functional as F\n",
    "from torch.optim import Adam, SGD\n",
    "import torchvision.models as models\n",
    "from torch.nn.parameter import Parameter\n",
    "from torch.utils.data import DataLoader, Dataset\n",
    "from torch.optim.lr_scheduler import CosineAnnealingWarmRestarts, CosineAnnealingLR, ReduceLROnPlateau\n",
    "\n",
    "from albumentations import (\n",
    "    Compose, OneOf, Normalize, Resize, RandomResizedCrop, RandomCrop, HorizontalFlip, VerticalFlip, \n",
    "    RandomBrightness, RandomContrast, RandomBrightnessContrast, Rotate, ShiftScaleRotate, Cutout, \n",
    "    IAAAdditiveGaussianNoise, Transpose\n",
    "    )\n",
    "from albumentations.pytorch import ToTensorV2\n",
    "from albumentations import ImageOnlyTransform\n",
    "\n",
    "import timm\n",
    "\n",
    "from torch.cuda.amp import autocast, GradScaler\n",
    "\n",
    "import warnings \n",
    "warnings.filterwarnings('ignore')\n",
    "\n",
    "device = torch.device('cuda' if torch.cuda.is_available() else 'cpu')"
   ]
  },
  {
   "cell_type": "markdown",
   "metadata": {
    "papermill": {
     "duration": 0.015823,
     "end_time": "2021-02-26T10:16:24.845812",
     "exception": false,
     "start_time": "2021-02-26T10:16:24.829989",
     "status": "completed"
    },
    "tags": []
   },
   "source": [
    "## Utils"
   ]
  },
  {
   "cell_type": "code",
   "execution_count": 4,
   "metadata": {
    "execution": {
     "iopub.execute_input": "2021-02-26T10:16:24.888943Z",
     "iopub.status.busy": "2021-02-26T10:16:24.888124Z",
     "iopub.status.idle": "2021-02-26T10:16:24.895412Z",
     "shell.execute_reply": "2021-02-26T10:16:24.894903Z"
    },
    "papermill": {
     "duration": 0.034902,
     "end_time": "2021-02-26T10:16:24.895539",
     "exception": false,
     "start_time": "2021-02-26T10:16:24.860637",
     "status": "completed"
    },
    "tags": []
   },
   "outputs": [],
   "source": [
    "# =============================================\n",
    "# Utils\n",
    "# =============================================\n",
    "def get_score(y_true, y_pred):\n",
    "    scores = []\n",
    "    for i in range(y_true.shape[1]):\n",
    "        score = roc_auc_score(y_true[:, i], y_pred[:, i])\n",
    "        scores.append(score)\n",
    "    avg_score = np.mean(scores)\n",
    "    return avg_score, scores\n",
    "\n",
    "def get_result(result_df):\n",
    "    preds = result_df[[f'preds_{c}' for c in CFG.target_cols]].values\n",
    "    labels = result_df[CFG.target_cols].values\n",
    "    score, scores = get_score(labels, preds)\n",
    "    LOGGER.info(f'Score: {score:<.4f} Scores: {np.round(scores, decimals=4)}')\n",
    "    \n",
    "@contextmanager\n",
    "def timer(name):\n",
    "    t0 = time.time()\n",
    "    LOGGER.info(f'[{name}] start')\n",
    "    yield\n",
    "    LOGGER.info(f'[{name}] done in {time.time() - t0:.0f}s')\n",
    "\n",
    "def init_logger(log_file=OUTPUT_DIR+'inference.log'):\n",
    "    from logging import getLogger, INFO, FileHandler,  Formatter,  StreamHandler\n",
    "    logger = getLogger(__name__)\n",
    "    logger.setLevel(INFO)\n",
    "    handler1 = StreamHandler()\n",
    "    handler1.setFormatter(Formatter(\"%(message)s\"))\n",
    "    handler2 = FileHandler(filename=log_file)\n",
    "    handler2.setFormatter(Formatter(\"%(message)s\"))\n",
    "    logger.addHandler(handler1)\n",
    "    logger.addHandler(handler2)\n",
    "    return logger\n",
    "\n",
    "LOGGER = init_logger()\n",
    "\n",
    "def seed_torch(seed=42):\n",
    "    random.seed(seed)\n",
    "    os.environ['PYTHONHASHSEED'] = str(seed)\n",
    "    np.random.seed(seed)\n",
    "    torch.manual_seed(seed)\n",
    "    torch.cuda.manual_seed(seed)\n",
    "    torch.backends.cudnn.benchmark = False\n",
    "    torch.backends.cudnn.deterministic = True\n",
    "\n",
    "seed_torch(seed=CFG.seed)"
   ]
  },
  {
   "cell_type": "code",
   "execution_count": 5,
   "metadata": {
    "execution": {
     "iopub.execute_input": "2021-02-26T10:16:25.011397Z",
     "iopub.status.busy": "2021-02-26T10:16:25.010273Z",
     "iopub.status.idle": "2021-02-26T10:16:25.382981Z",
     "shell.execute_reply": "2021-02-26T10:16:25.382332Z"
    },
    "papermill": {
     "duration": 0.471623,
     "end_time": "2021-02-26T10:16:25.383135",
     "exception": false,
     "start_time": "2021-02-26T10:16:24.911512",
     "status": "completed"
    },
    "tags": []
   },
   "outputs": [],
   "source": [
    "train = pd.read_csv('../input/ranzcr-clip-catheter-line-classification/train.csv')\n",
    "test = pd.read_csv('../input/ranzcr-clip-catheter-line-classification/sample_submission.csv')\n",
    "train_annotations = pd.read_csv('../input/ranzcr-clip-catheter-line-classification/train_annotations.csv')\n",
    "\n",
    "# delete suspicious data\n",
    "train = train[train['StudyInstanceUID'] != '1.2.826.0.1.3680043.8.498.93345761486297843389996628528592497280'].reset_index(drop=True)\n",
    "train_annotations = train_annotations[train_annotations['StudyInstanceUID'] != '1.2.826.0.1.3680043.8.498.93345761486297843389996628528592497280'].reset_index(drop=True)"
   ]
  },
  {
   "cell_type": "code",
   "execution_count": 6,
   "metadata": {
    "execution": {
     "iopub.execute_input": "2021-02-26T10:16:25.420568Z",
     "iopub.status.busy": "2021-02-26T10:16:25.419724Z",
     "iopub.status.idle": "2021-02-26T10:16:25.491196Z",
     "shell.execute_reply": "2021-02-26T10:16:25.491708Z"
    },
    "papermill": {
     "duration": 0.093468,
     "end_time": "2021-02-26T10:16:25.491872",
     "exception": false,
     "start_time": "2021-02-26T10:16:25.398404",
     "status": "completed"
    },
    "tags": []
   },
   "outputs": [
    {
     "data": {
      "text/plain": [
       "fold\n",
       "0    7521\n",
       "1    7521\n",
       "2    7520\n",
       "3    7520\n",
       "dtype: int64"
      ]
     },
     "metadata": {},
     "output_type": "display_data"
    }
   ],
   "source": [
    "# train = pd.read_csv('../input/ranzcr-clip-catheter-line-classification/train.csv')\n",
    "folds = train.copy()\n",
    "Fold = GroupKFold(n_splits=CFG.n_fold)\n",
    "groups = folds['PatientID'].values\n",
    "for n, (train_index, val_index) in enumerate(Fold.split(folds, folds[CFG.target_cols], groups)):\n",
    "    folds.loc[val_index, 'fold'] = int(n)\n",
    "folds['fold'] = folds['fold'].astype(int)\n",
    "display(folds.groupby('fold').size())"
   ]
  },
  {
   "cell_type": "code",
   "execution_count": 7,
   "metadata": {
    "execution": {
     "iopub.execute_input": "2021-02-26T10:16:25.533980Z",
     "iopub.status.busy": "2021-02-26T10:16:25.533286Z",
     "iopub.status.idle": "2021-02-26T10:16:31.949642Z",
     "shell.execute_reply": "2021-02-26T10:16:31.948900Z"
    },
    "papermill": {
     "duration": 6.439965,
     "end_time": "2021-02-26T10:16:31.949851",
     "exception": false,
     "start_time": "2021-02-26T10:16:25.509886",
     "status": "completed"
    },
    "tags": []
   },
   "outputs": [
    {
     "name": "stderr",
     "output_type": "stream",
     "text": [
      "========== fold: 0 result ==========\n",
      "Score: 0.9292 Scores: [0.9615 0.9416 0.989  0.8883 0.9265 0.9724 0.9762 0.887  0.8092 0.8711\n",
      " 0.9987]\n",
      "========== CV ==========\n",
      "Score: 0.9292 Scores: [0.9615 0.9416 0.989  0.8883 0.9265 0.9724 0.9762 0.887  0.8092 0.8711\n",
      " 0.9987]\n"
     ]
    }
   ],
   "source": [
    "oof_df = pd.DataFrame()\n",
    "for fold in CFG.trn_fold:\n",
    "    valid_folds = folds[folds['fold'] == fold].reset_index(drop=True)\n",
    "    check_point = torch.load(MODEL_DIR+f'{CFG.model_name}_fold{fold}_best.pth', map_location=device)\n",
    "    for c in [f'pred_{c}' for c in CFG.target_cols]:\n",
    "        valid_folds[c] = np.nan\n",
    "    valid_folds[[f'preds_{c}' for c in CFG.target_cols]] = check_point['preds']\n",
    "    LOGGER.info(f'========== fold: {fold} result ==========')\n",
    "    get_result(valid_folds)\n",
    "    oof_df = pd.concat([oof_df, valid_folds])\n",
    "oof_df = oof_df.reset_index(drop=True)\n",
    "LOGGER.info(f'========== CV ==========')\n",
    "get_result(oof_df)"
   ]
  },
  {
   "cell_type": "code",
   "execution_count": 8,
   "metadata": {
    "execution": {
     "iopub.execute_input": "2021-02-26T10:16:32.000795Z",
     "iopub.status.busy": "2021-02-26T10:16:31.999923Z",
     "iopub.status.idle": "2021-02-26T10:16:32.027491Z",
     "shell.execute_reply": "2021-02-26T10:16:32.028118Z"
    },
    "papermill": {
     "duration": 0.059101,
     "end_time": "2021-02-26T10:16:32.028290",
     "exception": false,
     "start_time": "2021-02-26T10:16:31.969189",
     "status": "completed"
    },
    "tags": []
   },
   "outputs": [
    {
     "name": "stdout",
     "output_type": "stream",
     "text": [
      "(3582, 12)\n"
     ]
    },
    {
     "data": {
      "text/html": [
       "<div>\n",
       "<style scoped>\n",
       "    .dataframe tbody tr th:only-of-type {\n",
       "        vertical-align: middle;\n",
       "    }\n",
       "\n",
       "    .dataframe tbody tr th {\n",
       "        vertical-align: top;\n",
       "    }\n",
       "\n",
       "    .dataframe thead th {\n",
       "        text-align: right;\n",
       "    }\n",
       "</style>\n",
       "<table border=\"1\" class=\"dataframe\">\n",
       "  <thead>\n",
       "    <tr style=\"text-align: right;\">\n",
       "      <th></th>\n",
       "      <th>StudyInstanceUID</th>\n",
       "      <th>ETT - Abnormal</th>\n",
       "      <th>ETT - Borderline</th>\n",
       "      <th>ETT - Normal</th>\n",
       "      <th>NGT - Abnormal</th>\n",
       "      <th>NGT - Borderline</th>\n",
       "      <th>NGT - Incompletely Imaged</th>\n",
       "      <th>NGT - Normal</th>\n",
       "      <th>CVC - Abnormal</th>\n",
       "      <th>CVC - Borderline</th>\n",
       "      <th>CVC - Normal</th>\n",
       "      <th>Swan Ganz Catheter Present</th>\n",
       "    </tr>\n",
       "  </thead>\n",
       "  <tbody>\n",
       "    <tr>\n",
       "      <th>0</th>\n",
       "      <td>1.2.826.0.1.3680043.8.498.46923145579096002617...</td>\n",
       "      <td>0</td>\n",
       "      <td>0</td>\n",
       "      <td>0</td>\n",
       "      <td>0</td>\n",
       "      <td>0</td>\n",
       "      <td>0</td>\n",
       "      <td>0</td>\n",
       "      <td>0</td>\n",
       "      <td>0</td>\n",
       "      <td>0</td>\n",
       "      <td>0</td>\n",
       "    </tr>\n",
       "    <tr>\n",
       "      <th>1</th>\n",
       "      <td>1.2.826.0.1.3680043.8.498.84006870182611080091...</td>\n",
       "      <td>0</td>\n",
       "      <td>0</td>\n",
       "      <td>0</td>\n",
       "      <td>0</td>\n",
       "      <td>0</td>\n",
       "      <td>0</td>\n",
       "      <td>0</td>\n",
       "      <td>0</td>\n",
       "      <td>0</td>\n",
       "      <td>0</td>\n",
       "      <td>0</td>\n",
       "    </tr>\n",
       "    <tr>\n",
       "      <th>2</th>\n",
       "      <td>1.2.826.0.1.3680043.8.498.12219033294413119947...</td>\n",
       "      <td>0</td>\n",
       "      <td>0</td>\n",
       "      <td>0</td>\n",
       "      <td>0</td>\n",
       "      <td>0</td>\n",
       "      <td>0</td>\n",
       "      <td>0</td>\n",
       "      <td>0</td>\n",
       "      <td>0</td>\n",
       "      <td>0</td>\n",
       "      <td>0</td>\n",
       "    </tr>\n",
       "    <tr>\n",
       "      <th>3</th>\n",
       "      <td>1.2.826.0.1.3680043.8.498.84994474380235968109...</td>\n",
       "      <td>0</td>\n",
       "      <td>0</td>\n",
       "      <td>0</td>\n",
       "      <td>0</td>\n",
       "      <td>0</td>\n",
       "      <td>0</td>\n",
       "      <td>0</td>\n",
       "      <td>0</td>\n",
       "      <td>0</td>\n",
       "      <td>0</td>\n",
       "      <td>0</td>\n",
       "    </tr>\n",
       "    <tr>\n",
       "      <th>4</th>\n",
       "      <td>1.2.826.0.1.3680043.8.498.35798987793805669662...</td>\n",
       "      <td>0</td>\n",
       "      <td>0</td>\n",
       "      <td>0</td>\n",
       "      <td>0</td>\n",
       "      <td>0</td>\n",
       "      <td>0</td>\n",
       "      <td>0</td>\n",
       "      <td>0</td>\n",
       "      <td>0</td>\n",
       "      <td>0</td>\n",
       "      <td>0</td>\n",
       "    </tr>\n",
       "  </tbody>\n",
       "</table>\n",
       "</div>"
      ],
      "text/plain": [
       "                                    StudyInstanceUID  ETT - Abnormal  \\\n",
       "0  1.2.826.0.1.3680043.8.498.46923145579096002617...               0   \n",
       "1  1.2.826.0.1.3680043.8.498.84006870182611080091...               0   \n",
       "2  1.2.826.0.1.3680043.8.498.12219033294413119947...               0   \n",
       "3  1.2.826.0.1.3680043.8.498.84994474380235968109...               0   \n",
       "4  1.2.826.0.1.3680043.8.498.35798987793805669662...               0   \n",
       "\n",
       "   ETT - Borderline  ETT - Normal  NGT - Abnormal  NGT - Borderline  \\\n",
       "0                 0             0               0                 0   \n",
       "1                 0             0               0                 0   \n",
       "2                 0             0               0                 0   \n",
       "3                 0             0               0                 0   \n",
       "4                 0             0               0                 0   \n",
       "\n",
       "   NGT - Incompletely Imaged  NGT - Normal  CVC - Abnormal  CVC - Borderline  \\\n",
       "0                          0             0               0                 0   \n",
       "1                          0             0               0                 0   \n",
       "2                          0             0               0                 0   \n",
       "3                          0             0               0                 0   \n",
       "4                          0             0               0                 0   \n",
       "\n",
       "   CVC - Normal  Swan Ganz Catheter Present  \n",
       "0             0                           0  \n",
       "1             0                           0  \n",
       "2             0                           0  \n",
       "3             0                           0  \n",
       "4             0                           0  "
      ]
     },
     "execution_count": 8,
     "metadata": {},
     "output_type": "execute_result"
    }
   ],
   "source": [
    "test = pd.read_csv('../input/ranzcr-clip-catheter-line-classification/sample_submission.csv')\n",
    "print(test.shape)\n",
    "test.head()"
   ]
  },
  {
   "cell_type": "code",
   "execution_count": 9,
   "metadata": {
    "execution": {
     "iopub.execute_input": "2021-02-26T10:16:32.074916Z",
     "iopub.status.busy": "2021-02-26T10:16:32.073359Z",
     "iopub.status.idle": "2021-02-26T10:16:32.076028Z",
     "shell.execute_reply": "2021-02-26T10:16:32.076494Z"
    },
    "papermill": {
     "duration": 0.02852,
     "end_time": "2021-02-26T10:16:32.076635",
     "exception": false,
     "start_time": "2021-02-26T10:16:32.048115",
     "status": "completed"
    },
    "tags": []
   },
   "outputs": [],
   "source": [
    "if CFG.debug:\n",
    "    test = test.head()"
   ]
  },
  {
   "cell_type": "markdown",
   "metadata": {
    "papermill": {
     "duration": 0.019934,
     "end_time": "2021-02-26T10:16:32.116636",
     "exception": false,
     "start_time": "2021-02-26T10:16:32.096702",
     "status": "completed"
    },
    "tags": []
   },
   "source": [
    "## Dataset"
   ]
  },
  {
   "cell_type": "code",
   "execution_count": 10,
   "metadata": {
    "execution": {
     "iopub.execute_input": "2021-02-26T10:16:32.162367Z",
     "iopub.status.busy": "2021-02-26T10:16:32.161517Z",
     "iopub.status.idle": "2021-02-26T10:16:32.165594Z",
     "shell.execute_reply": "2021-02-26T10:16:32.165082Z"
    },
    "papermill": {
     "duration": 0.029581,
     "end_time": "2021-02-26T10:16:32.165732",
     "exception": false,
     "start_time": "2021-02-26T10:16:32.136151",
     "status": "completed"
    },
    "tags": []
   },
   "outputs": [],
   "source": [
    "# ===============================================\n",
    "# Dataset\n",
    "# ===============================================\n",
    "class TestDataset(Dataset):\n",
    "    def __init__(self, df, transform=None):\n",
    "        self.df = df\n",
    "        self.file_names = df['StudyInstanceUID'].values\n",
    "        self.transform = transform\n",
    "        \n",
    "    def __len__(self):\n",
    "        return len(self.df)\n",
    "    \n",
    "    def __getitem__(self, idx):\n",
    "        file_name = self.file_names[idx]\n",
    "        file_path = f'{TEST_PATH}/{file_name}.jpg'\n",
    "        image = cv2.imread(file_path)\n",
    "        image = cv2.cvtColor(image, cv2.COLOR_BGR2RGB)\n",
    "        if self.transform:\n",
    "            augmented = self.transform(image=image)\n",
    "            image = augmented['image']\n",
    "        return image"
   ]
  },
  {
   "cell_type": "markdown",
   "metadata": {
    "papermill": {
     "duration": 0.018537,
     "end_time": "2021-02-26T10:16:32.203305",
     "exception": false,
     "start_time": "2021-02-26T10:16:32.184768",
     "status": "completed"
    },
    "tags": []
   },
   "source": [
    "## Transforms"
   ]
  },
  {
   "cell_type": "code",
   "execution_count": 11,
   "metadata": {
    "execution": {
     "iopub.execute_input": "2021-02-26T10:16:32.252466Z",
     "iopub.status.busy": "2021-02-26T10:16:32.251800Z",
     "iopub.status.idle": "2021-02-26T10:16:32.255392Z",
     "shell.execute_reply": "2021-02-26T10:16:32.254901Z"
    },
    "papermill": {
     "duration": 0.032553,
     "end_time": "2021-02-26T10:16:32.255508",
     "exception": false,
     "start_time": "2021-02-26T10:16:32.222955",
     "status": "completed"
    },
    "tags": []
   },
   "outputs": [],
   "source": [
    "# ================================================\n",
    "# Transforms\n",
    "# ================================================ \n",
    "def get_transforms(*, data):\n",
    "    \n",
    "    if data == 'train':\n",
    "        return Compose([\n",
    "            Resize(CFG.size, CFG.size),\n",
    "            Normalize(\n",
    "                mean=[0.485, 0.456, 0.406], \n",
    "                std=[0.229, 0.224, 0.225],\n",
    "            ),\n",
    "            ToTensorV2(),\n",
    "        ])\n",
    "    \n",
    "    elif data == 'valid':\n",
    "        return Compose([\n",
    "            Resize(CFG.size, CFG.size), \n",
    "            Normalize(\n",
    "                mean=[0.485, 0.456, 0.406], \n",
    "                std=[0.229, 0.224, 0.225], \n",
    "            ),\n",
    "            ToTensorV2(),\n",
    "        ])\n",
    "    \n",
    "    elif data == 'tta':\n",
    "        return Compose([\n",
    "            RandomResizedCrop(CFG.size, CFG.size), \n",
    "            Transpose(p=0.5), \n",
    "            HorizontalFlip(p=0.5), \n",
    "            VerticalFlip(p=0.5), \n",
    "            ShiftScaleRotate(p=0.5), \n",
    "            Normalize(\n",
    "                mean=[0.485, 0.456, 0.406],\n",
    "                std=[0.229, 0.224, 0.225],\n",
    "            ),\n",
    "            ToTensorV2(),\n",
    "            \n",
    "        ])"
   ]
  },
  {
   "cell_type": "markdown",
   "metadata": {
    "papermill": {
     "duration": 0.019875,
     "end_time": "2021-02-26T10:16:32.294277",
     "exception": false,
     "start_time": "2021-02-26T10:16:32.274402",
     "status": "completed"
    },
    "tags": []
   },
   "source": [
    "## Model"
   ]
  },
  {
   "cell_type": "code",
   "execution_count": 12,
   "metadata": {
    "execution": {
     "iopub.execute_input": "2021-02-26T10:16:32.339484Z",
     "iopub.status.busy": "2021-02-26T10:16:32.338877Z",
     "iopub.status.idle": "2021-02-26T10:16:32.341961Z",
     "shell.execute_reply": "2021-02-26T10:16:32.342464Z"
    },
    "papermill": {
     "duration": 0.028765,
     "end_time": "2021-02-26T10:16:32.342616",
     "exception": false,
     "start_time": "2021-02-26T10:16:32.313851",
     "status": "completed"
    },
    "tags": []
   },
   "outputs": [],
   "source": [
    "# ===================================================\n",
    "# MODEL\n",
    "# ===================================================\n",
    "class CustomResNext(nn.Module):\n",
    "    def __init__(self, model_name='resnext50_32x4d', pretrained=False):\n",
    "        super().__init__()\n",
    "        self.model = timm.create_model(model_name, pretrained=pretrained)\n",
    "        n_features = self.model.fc.in_features\n",
    "        self.model.fc = nn.Linear(n_features, CFG.target_size)\n",
    "        \n",
    "    def forward(self, x):\n",
    "        x = self.model(x)\n",
    "        return x"
   ]
  },
  {
   "cell_type": "markdown",
   "metadata": {
    "papermill": {
     "duration": 0.020012,
     "end_time": "2021-02-26T10:16:32.382338",
     "exception": false,
     "start_time": "2021-02-26T10:16:32.362326",
     "status": "completed"
    },
    "tags": []
   },
   "source": [
    "## Helper functions"
   ]
  },
  {
   "cell_type": "code",
   "execution_count": 13,
   "metadata": {
    "execution": {
     "iopub.execute_input": "2021-02-26T10:16:32.430141Z",
     "iopub.status.busy": "2021-02-26T10:16:32.429383Z",
     "iopub.status.idle": "2021-02-26T10:16:32.433436Z",
     "shell.execute_reply": "2021-02-26T10:16:32.432953Z"
    },
    "papermill": {
     "duration": 0.030905,
     "end_time": "2021-02-26T10:16:32.433568",
     "exception": false,
     "start_time": "2021-02-26T10:16:32.402663",
     "status": "completed"
    },
    "tags": []
   },
   "outputs": [],
   "source": [
    "# =================================================\n",
    "# Helper functions\n",
    "# =================================================\n",
    "def inference(model, states, test_loader, device):\n",
    "    model.to(device)\n",
    "    tk0 = tqdm(enumerate(test_loader), total=len(test_loader))\n",
    "    probs = []\n",
    "    for i, (images) in tk0:\n",
    "        images = images.to(device)\n",
    "        avg_preds = []\n",
    "        for state in states:\n",
    "            model.load_state_dict(state['model'])\n",
    "            model.eval()\n",
    "            with torch.no_grad():\n",
    "                y_preds = model(images)\n",
    "            avg_preds.append(y_preds.sigmoid().to('cpu').numpy())\n",
    "        avg_preds = np.mean(avg_preds, axis=0)\n",
    "        probs.append(avg_preds)\n",
    "    probs = np.concatenate(probs)\n",
    "    return probs"
   ]
  },
  {
   "cell_type": "markdown",
   "metadata": {
    "papermill": {
     "duration": 0.019451,
     "end_time": "2021-02-26T10:16:32.472913",
     "exception": false,
     "start_time": "2021-02-26T10:16:32.453462",
     "status": "completed"
    },
    "tags": []
   },
   "source": [
    "## inference"
   ]
  },
  {
   "cell_type": "code",
   "execution_count": 14,
   "metadata": {
    "execution": {
     "iopub.execute_input": "2021-02-26T10:16:32.521501Z",
     "iopub.status.busy": "2021-02-26T10:16:32.520596Z",
     "iopub.status.idle": "2021-02-26T10:16:32.719801Z",
     "shell.execute_reply": "2021-02-26T10:16:32.719190Z"
    },
    "papermill": {
     "duration": 0.22724,
     "end_time": "2021-02-26T10:16:32.719954",
     "exception": false,
     "start_time": "2021-02-26T10:16:32.492714",
     "status": "completed"
    },
    "tags": []
   },
   "outputs": [],
   "source": [
    "# =================================================\n",
    "# inference\n",
    "# =================================================\n",
    "if CFG.submit:\n",
    "    model = CustomResNext(CFG.model_name, pretrained=False)\n",
    "    states = [torch.load(MODEL_DIR+f'{CFG.model_name}_fold{fold}_best.pth') for fold in CFG.trn_fold]\n",
    "    test_dataset = TestDataset(test, transform=get_transforms(data='valid'))\n",
    "    test_loader = DataLoader(test_dataset, batch_size=CFG.batch_size, shuffle=False, num_workers=CFG.num_workers, pin_memory=True)\n",
    "    predictions = inference(model, states, test_loader, device)\n",
    "    # submission\n",
    "    test[CFG.target_cols] = predictions\n",
    "    test[['StudyInstanceUID'] + CFG.target_cols].to_csv(OUTPUT_DIR+'submission.csv', index=False)\n",
    "    test.head()\n",
    "else:\n",
    "    pd.read_csv('../input/ranzcr-clip-catheter-line-classification/sample_submission.csv').to_csv('submission.csv', index=False)"
   ]
  },
  {
   "cell_type": "code",
   "execution_count": 15,
   "metadata": {
    "execution": {
     "iopub.execute_input": "2021-02-26T10:16:32.768892Z",
     "iopub.status.busy": "2021-02-26T10:16:32.766886Z",
     "iopub.status.idle": "2021-02-26T10:16:32.769654Z",
     "shell.execute_reply": "2021-02-26T10:16:32.770225Z"
    },
    "papermill": {
     "duration": 0.029631,
     "end_time": "2021-02-26T10:16:32.770371",
     "exception": false,
     "start_time": "2021-02-26T10:16:32.740740",
     "status": "completed"
    },
    "tags": []
   },
   "outputs": [],
   "source": [
    "\n",
    "# # ====================================================\n",
    "# # inference\n",
    "# # ====================================================\n",
    "# seed_torch(seed=CFG.seed)\n",
    "# model = CustomResNext(CFG.model_name, pretrained=False)\n",
    "# # states = [torch.load(MODEL_DIR+f'{CFG.model_name}_fold{fold}_best.pth') for fold in CFG.trn_fold]\n",
    "# test_dataset = TestDataset(test, transform=get_transforms(data='tta'))\n",
    "# test_loader = DataLoader(test_dataset, batch_size=CFG.batch_size, shuffle=False, \n",
    "#                          num_workers=CFG.num_workers, pin_memory=True)\n",
    "\n",
    "# predictions = []\n",
    "# for epoch in CFG.epochs:\n",
    "#     print(f'epoch: {epoch}')\n",
    "#     states = [torch.load(MODEL_DIR+f'{CFG.model_name}_fold{fold}_epoch{epoch}.pth') for fold in CFG.trn_fold]\n",
    "#     each_epoch_predictions = []\n",
    "#     for tta in range(CFG.tta):\n",
    "# #         print(f'tta_{tta}')\n",
    "#         predictions_ = inference(model, states, test_loader, device)\n",
    "#         each_epoch_predictions.append(predictions_)\n",
    "#     predictions.append(np.mean(each_epoch_predictions, axis=0))\n",
    "# predictions = np.mean(predictions, axis=0)\n",
    "\n",
    "# # submission\n",
    "# test[CFG.target_cols] = predictions\n",
    "# test[['StudyInstanceUID'] + CFG.target_cols].to_csv(OUTPUT_DIR+'submission.csv', index=False)\n",
    "# test.head()"
   ]
  },
  {
   "cell_type": "code",
   "execution_count": null,
   "metadata": {
    "papermill": {
     "duration": 0.021066,
     "end_time": "2021-02-26T10:16:32.813211",
     "exception": false,
     "start_time": "2021-02-26T10:16:32.792145",
     "status": "completed"
    },
    "tags": []
   },
   "outputs": [],
   "source": []
  }
 ],
 "metadata": {
  "kernelspec": {
   "display_name": "Python 3",
   "language": "python",
   "name": "python3"
  },
  "language_info": {
   "codemirror_mode": {
    "name": "ipython",
    "version": 3
   },
   "file_extension": ".py",
   "mimetype": "text/x-python",
   "name": "python",
   "nbconvert_exporter": "python",
   "pygments_lexer": "ipython3",
   "version": "3.7.9"
  },
  "papermill": {
   "default_parameters": {},
   "duration": 19.666897,
   "end_time": "2021-02-26T10:16:34.044126",
   "environment_variables": {},
   "exception": null,
   "input_path": "__notebook__.ipynb",
   "output_path": "__notebook__.ipynb",
   "parameters": {},
   "start_time": "2021-02-26T10:16:14.377229",
   "version": "2.2.2"
  }
 },
 "nbformat": 4,
 "nbformat_minor": 4
}
